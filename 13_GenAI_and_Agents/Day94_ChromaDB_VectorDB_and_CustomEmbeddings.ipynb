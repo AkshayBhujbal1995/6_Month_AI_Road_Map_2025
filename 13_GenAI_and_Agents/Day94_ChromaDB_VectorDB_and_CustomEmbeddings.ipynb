{
 "cells": [
  {
   "cell_type": "markdown",
   "id": "edd30bc3-43c1-4e91-b28c-7cabd9ff60dd",
   "metadata": {},
   "source": [
    "**Vector Databases ChromaDB**\n",
    "\n",
    "# What is a Vector Database?\n",
    "\n",
    "A **Vector Database** is a special type of database designed to store and search **vector embeddings** (numerical representations of text, images, or other data).  \n",
    "\n",
    "Unlike traditional databases that search using exact matches or SQL queries, vector databases allow **semantic search** — searching by meaning, not exact words.\n",
    "\n",
    "Example: \n",
    "\n",
    "- Query: *\"latest iPhone release date\"*  \n",
    "- Traditional DB → searches for rows with the exact words \"iPhone release date\".  \n",
    "- Vector DB → finds documents *about Apple products, launches, new iPhones*, even if the words don’t match exactly.\n",
    "\n",
    "\n",
    "# How Vector Databases Work?\n",
    "\n",
    "1. **Embedding Generation**  \n",
    "   - Raw data (text, image, audio) is converted into a vector (list of numbers) using ML models like `sentence-transformers`, `OpenAI embeddings`, `HuggingFace models`.\n",
    "\n",
    "   Example:  \n",
    "\n",
    "   `\"Apple is a fruit\"` → `[0.12, -0.43, 0.98, ...]`\n",
    "\n",
    "2. **Storage in Vector DB**  \n",
    "   - These vectors are stored in a database optimized for similarity search.\n",
    "\n",
    "3. **Querying**  \n",
    "   - Query text/image is also converted into an embedding.  \n",
    "   - The DB uses **nearest neighbor search (ANN: Approximate Nearest Neighbor)** to find vectors closest in meaning.\n",
    "\n",
    "4. **Return Results**  \n",
    "   - The DB retrieves the most relevant items (documents, images, etc.).\n",
    "\n",
    "\n",
    "# Popular Free Vector Databases\n",
    "\n",
    "- **ChromaDB** → Lightweight, Python-first, easy to integrate.  \n",
    "- **FAISS (Facebook AI Similarity Search)** → Highly optimized, local use.  \n",
    "- **Weaviate** → Open-source, has cloud support.  \n",
    "- **Pinecone (Freemium)** → Managed cloud service.  \n",
    "- **Milvus** → High-scale open-source solution.  \n",
    "\n",
    "> All have similar functionality (store vectors, perform similarity search). The main difference is **syntax and scalability**.  \n",
    "Always check the **official docs** when stuck:\n",
    "\n",
    "**Documentation Links**\n",
    "\n",
    "- [Sentence Transformers Documentation](https://sbert.net/)\n",
    "- [ChromaDB Embedding Functions Guide](https://docs.trychroma.com/docs/embeddings/embedding-functions)\n",
    "- [ChromaDB GitHub Repository](https://github.com/chroma-core/chroma)\n",
    "\n"
   ]
  },
  {
   "cell_type": "markdown",
   "id": "90d1fc5e-419e-4419-8a9b-7b80423b208b",
   "metadata": {},
   "source": [
    "# Installing Dependencies\n",
    "\n",
    "```python\n",
    "# Install ChromaDB (specific version)\n",
    "!pip install chromadb==0.5.3\n",
    "\n",
    "# Upgrade HuggingFace Hub (for embeddings)\n",
    "!pip install --upgrade huggingface_hub\n",
    "\n",
    "# Upgrade Sentence Transformers (for embeddings)\n",
    "!pip install --upgrade sentence-transformers\n",
    "\n",
    "```"
   ]
  },
  {
   "cell_type": "markdown",
   "id": "93b4ef20-5421-40df-af6e-c56f0a34d006",
   "metadata": {},
   "source": [
    "# Using ChromaDB – Step by Step"
   ]
  },
  {
   "cell_type": "code",
   "execution_count": 1,
   "id": "0c16e6d4-13fa-487d-9eec-133a05e975e8",
   "metadata": {},
   "outputs": [
    {
     "name": "stdout",
     "output_type": "stream",
     "text": [
      "Search Results for iPhone query:\n",
      "{'ids': [['id2', 'id1']], 'embeddings': None, 'documents': [['This is a document abount Apple', 'This is a document about Pineapple']], 'uris': None, 'included': ['metadatas', 'documents', 'distances'], 'data': None, 'metadatas': [[None, None]], 'distances': [[1.5486209392547607, 1.8884873390197754]]}\n"
     ]
    }
   ],
   "source": [
    "import chromadb\n",
    "\n",
    "#  Create a Chroma client (in-memory database for now)\n",
    "client = chromadb.Client()\n",
    "\n",
    "# Create a collection (like a table in SQL)\n",
    "# Note: A collection stores embeddings + documents.\n",
    "collection = client.create_collection(name=\"news\")\n",
    "\n",
    "# Trying to create the same collection again will raise an error:\n",
    "# collection = client.create_collection(name=\"news\")\n",
    "#  Error: Collection already exists\n",
    "\n",
    "# To delete and recreate:\n",
    "client.delete_collection(\"news\")\n",
    "collection = client.create_collection(name=\"news\")\n",
    "\n",
    "#  Insert documents into the collection\n",
    "collection.add(\n",
    "    documents=[\n",
    "        \"This is a document about Pineapple\",\n",
    "        \"This is a document abount Apple\"\n",
    "    ],\n",
    "    ids=[\"id1\", \"id2\"]  # unique identifiers\n",
    ")\n",
    "\n",
    "#  Retrieve collection object (alternative way)\n",
    "collection = client.get_collection(\"news\")\n",
    "\n",
    "#  Query: Search by meaning\n",
    "results = collection.query(\n",
    "    query_texts=[\"New iPhone will launch in May\"],\n",
    "    n_results=2\n",
    ")\n",
    "\n",
    "print(\"Search Results for iPhone query:\")\n",
    "print(results)\n"
   ]
  },
  {
   "cell_type": "markdown",
   "id": "db0c6f46-d215-4ff0-a83c-52e73a342643",
   "metadata": {},
   "source": [
    "# Output Example (Semantic Search)\n",
    "\n",
    "Even though the query is about **iPhone**, the DB will return documents about **Apple** (the company/fruit) because of semantic similarity."
   ]
  },
  {
   "cell_type": "code",
   "execution_count": 3,
   "id": "7af5f6e7-8498-4ebe-becf-856e64d50183",
   "metadata": {},
   "outputs": [
    {
     "data": {
      "text/plain": [
       "{'ids': [['id2', 'id1']],\n",
       " 'documents': [['This is a document abount Apple',\n",
       "   'This is a document about Pineapple']],\n",
       " 'distances': [[1.54, 1.88]]}"
      ]
     },
     "execution_count": 3,
     "metadata": {},
     "output_type": "execute_result"
    }
   ],
   "source": [
    "{\n",
    " 'ids': [['id2', 'id1']],\n",
    " 'documents': [['This is a document abount Apple',\n",
    "                'This is a document about Pineapple']],\n",
    " 'distances': [[1.54, 1.88]]  # smaller = more similar\n",
    "}"
   ]
  },
  {
   "cell_type": "markdown",
   "id": "ec4a7633-c82f-4f57-9664-668af87be107",
   "metadata": {},
   "source": [
    "# Another Query Example\n",
    "\n",
    "Even though \"Kiwi\" is not in documents, it may find **Pineapple** or **Apple** because they are fruits → semantic match."
   ]
  },
  {
   "cell_type": "code",
   "execution_count": 4,
   "id": "dbef7efb-d9f7-4665-b097-9eac7ac5c2d9",
   "metadata": {},
   "outputs": [
    {
     "name": "stdout",
     "output_type": "stream",
     "text": [
      "Search Results for KIWI query:\n",
      "{'ids': [['id2', 'id7']], 'embeddings': None, 'documents': [['Pineapple farming has increased in tropical countries due to rising demand.', 'Tourists are flocking to Japan to see cherry blossoms this spring.']], 'uris': None, 'included': ['metadatas', 'documents', 'distances'], 'data': None, 'metadatas': [[None, None]], 'distances': [[1.706491470336914, 1.7645626068115234]]}\n"
     ]
    }
   ],
   "source": [
    "results = collection.query(\n",
    "    query_texts=[\"I just love KIWI\"],\n",
    "    n_results=2\n",
    ")\n",
    "\n",
    "print(\"Search Results for KIWI query:\")\n",
    "print(results)"
   ]
  },
  {
   "cell_type": "markdown",
   "id": "aa0f7b26-ca53-4d4c-b26b-0301f9ef58f2",
   "metadata": {},
   "source": [
    "# See Embeddings\n",
    "\n",
    "This shows vector representations (long list of numbers) generated for each document."
   ]
  },
  {
   "cell_type": "code",
   "execution_count": 5,
   "id": "e13b52b4-d42f-4a1c-92c1-2bbdefb9be18",
   "metadata": {},
   "outputs": [
    {
     "data": {
      "text/plain": [
       "{'ids': ['id1',\n",
       "  'id2',\n",
       "  'id3',\n",
       "  'id4',\n",
       "  'id5',\n",
       "  'id6',\n",
       "  'id7',\n",
       "  'id8',\n",
       "  'id9',\n",
       "  'id10'],\n",
       " 'embeddings': array([[ 0.01253181,  0.00910238,  0.07303503, ..., -0.05493123,\n",
       "          0.06227031, -0.00570446],\n",
       "        [ 0.05315585, -0.07466243, -0.01071489, ..., -0.09742906,\n",
       "         -0.02194229, -0.01105782],\n",
       "        [-0.01084162,  0.13738561, -0.00613452, ...,  0.06854109,\n",
       "          0.00145186, -0.05325739],\n",
       "        ...,\n",
       "        [-0.01722373,  0.07507852, -0.04060895, ..., -0.02508039,\n",
       "          0.03919973,  0.02877002],\n",
       "        [-0.11121067,  0.03540494,  0.08640522, ..., -0.06775279,\n",
       "         -0.01658493, -0.01870682],\n",
       "        [ 0.02905254,  0.04715664, -0.03811729, ..., -0.05770208,\n",
       "         -0.00215725,  0.01934869]]),\n",
       " 'documents': ['Apple is preparing to launch the new iPhone 16 with AI-powered features.',\n",
       "  'Pineapple farming has increased in tropical countries due to rising demand.',\n",
       "  'Cristiano Ronaldo scored a hat-trick in the UEFA Champions League match.',\n",
       "  'NASA successfully landed a new rover on Mars to search for signs of life.',\n",
       "  'The Indian government announced new policies for electric vehicle adoption.',\n",
       "  'A breakthrough in cancer treatment shows promising results in clinical trials.',\n",
       "  'Tourists are flocking to Japan to see cherry blossoms this spring.',\n",
       "  'Microsoft released a new update for Windows 12 with enhanced security.',\n",
       "  'Climate change is causing rapid melting of glaciers in the Himalayas.',\n",
       "  'A famous Bollywood actor announced his retirement after 30 years in film.'],\n",
       " 'uris': None,\n",
       " 'included': ['metadatas', 'documents', 'embeddings'],\n",
       " 'data': None,\n",
       " 'metadatas': [None, None, None, None, None, None, None, None, None, None]}"
      ]
     },
     "execution_count": 5,
     "metadata": {},
     "output_type": "execute_result"
    }
   ],
   "source": [
    "# To see stored embeddings\n",
    "collection.peek()"
   ]
  },
  {
   "cell_type": "markdown",
   "id": "8e33bd88-b35f-4281-b191-14e29758b4b3",
   "metadata": {},
   "source": [
    "# Insert Multiple Documents into the Collection"
   ]
  },
  {
   "cell_type": "code",
   "execution_count": 2,
   "id": "91354311-85eb-49c3-8de0-f33bfd2e90f5",
   "metadata": {},
   "outputs": [
    {
     "name": "stdout",
     "output_type": "stream",
     "text": [
      " Search Results for Space Exploration query:\n",
      "{'ids': [['id4', 'id8', 'id6']], 'embeddings': None, 'documents': [['NASA successfully landed a new rover on Mars to search for signs of life.', 'Microsoft released a new update for Windows 12 with enhanced security.', 'A breakthrough in cancer treatment shows promising results in clinical trials.']], 'uris': None, 'included': ['metadatas', 'documents', 'distances'], 'data': None, 'metadatas': [[None, None, None]], 'distances': [[0.8818884491920471, 1.4795515537261963, 1.545291781425476]]}\n"
     ]
    }
   ],
   "source": [
    "import chromadb\n",
    "\n",
    "#  Create a Chroma client (in-memory)\n",
    "client = chromadb.Client()\n",
    "\n",
    "#  Delete old collection if exists, then create a new one\n",
    "client.delete_collection(\"news\")\n",
    "collection = client.create_collection(name=\"news\")\n",
    "\n",
    "#  Insert multiple diverse documents\n",
    "collection.add(\n",
    "    documents=[\n",
    "        \"Apple is preparing to launch the new iPhone 16 with AI-powered features.\",\n",
    "        \"Pineapple farming has increased in tropical countries due to rising demand.\",\n",
    "        \"Cristiano Ronaldo scored a hat-trick in the UEFA Champions League match.\",\n",
    "        \"NASA successfully landed a new rover on Mars to search for signs of life.\",\n",
    "        \"The Indian government announced new policies for electric vehicle adoption.\",\n",
    "        \"A breakthrough in cancer treatment shows promising results in clinical trials.\",\n",
    "        \"Tourists are flocking to Japan to see cherry blossoms this spring.\",\n",
    "        \"Microsoft released a new update for Windows 12 with enhanced security.\",\n",
    "        \"Climate change is causing rapid melting of glaciers in the Himalayas.\",\n",
    "        \"A famous Bollywood actor announced his retirement after 30 years in film.\",\n",
    "        \"Germany is investing heavily in renewable energy to reduce carbon emissions.\",\n",
    "        \"The World Cup final between Argentina and Brazil drew millions of viewers.\",\n",
    "        \"Scientists discovered a new species of bird in the Amazon rainforest.\",\n",
    "        \"Stock markets surged today after positive economic growth data was released.\",\n",
    "        \"Researchers are working on quantum computers that can revolutionize AI.\",\n",
    "    ],\n",
    "    ids=[f\"id{i}\" for i in range(1, 16)]\n",
    ")\n",
    "\n",
    "#  Query the collection\n",
    "results = collection.query(\n",
    "    query_texts=[\"Latest updates on space exploration and Mars missions\"],\n",
    "    n_results=3\n",
    ")\n",
    "\n",
    "print(\" Search Results for Space Exploration query:\")\n",
    "print(results)\n"
   ]
  },
  {
   "cell_type": "markdown",
   "id": "69fc90ac-3e81-43b5-9fd6-0df527319643",
   "metadata": {},
   "source": [
    "\n",
    "# Using a Custom Embedding Function (Optional)\n",
    "\n",
    "In ChromaDB, you can use a **custom embedding function** to generate vector representations of your documents.  \n",
    "One popular option is the **SentenceTransformerEmbeddingFunction** from the `sentence-transformers` library:\n",
    "\n",
    "```python\n",
    "from chromadb.utils import embedding_functions\n",
    "\n",
    "ef = embedding_functions.SentenceTransformerEmbeddingFunction(\n",
    "    model_name=\"all-MiniLM-L6-v2\"  # Lightweight and fast model\n",
    ")\n",
    "````\n",
    "\n",
    "You can then pass this embedding function when creating a collection:\n",
    "\n",
    "```python\n",
    "collection = client.create_collection(\n",
    "    name=\"news_v2\",\n",
    "    embedding_function=ef\n",
    ")\n",
    "```\n",
    "\n",
    ">  Note: This requires the `sentence-transformers` package installed and compatible versions of `transformers`.\n",
    "> On Windows, installation may require additional setup (Rust toolchain) for some versions.\n",
    "> If you do not want to install extra packages, you can use ChromaDB's **default embedding function**, which works out-of-the-box.\n"
   ]
  },
  {
   "cell_type": "markdown",
   "id": "b306b6a7-d0f1-42aa-934e-74b696380ffa",
   "metadata": {},
   "source": [
    "# Key Points to Remember\n",
    "\n",
    "- Vector DBs = store embeddings + enable semantic search.\n",
    "- Syntax differs, but concepts are **always the same:**\n",
    "**Add → Store → Query → Get Results**\n",
    "- Don’t memorize syntax → always check official docs.\n",
    "- ChromaDB is great for **local testing & learning.** For large-scale apps → Pinecone, Weaviate, or Milvus."
   ]
  }
 ],
 "metadata": {
  "kernelspec": {
   "display_name": "Python 3 (ipykernel)",
   "language": "python",
   "name": "python3"
  },
  "language_info": {
   "codemirror_mode": {
    "name": "ipython",
    "version": 3
   },
   "file_extension": ".py",
   "mimetype": "text/x-python",
   "name": "python",
   "nbconvert_exporter": "python",
   "pygments_lexer": "ipython3",
   "version": "3.13.5"
  }
 },
 "nbformat": 4,
 "nbformat_minor": 5
}

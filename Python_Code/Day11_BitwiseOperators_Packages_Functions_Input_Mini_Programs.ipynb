{
 "cells": [
  {
   "cell_type": "markdown",
   "id": "c9a763eb-540f-4b43-96cd-bc7ef7a46924",
   "metadata": {},
   "source": [
    "# 🐍 Day 11 – Python Practice:Bitwise Operators, Packages, Functions, Input & Mini Programs"
   ]
  },
  {
   "cell_type": "markdown",
   "id": "dcc7cfb4-c073-4186-b6e6-9f77805de3f8",
   "metadata": {},
   "source": [
    "Today I revised many core concepts and learned how everything fits together in Python. I also wrote simple programs to practice what I’ve learned so far.\n",
    "\n",
    "---\n",
    "\n",
    "##  What I Learned Today\n",
    "\n",
    "### 🔹 1. String Manipulation\n",
    "- How to change characters in a string using indexing and slicing.\n",
    "- Example: Changing `'fine'` to `'dine'`.\n",
    "\n",
    "### 🔹 2. Swapping Numbers\n",
    "- I learned 3 different ways to swap two numbers:\n",
    "  1. Using a temporary variable\n",
    "  2. Without a temporary variable (arithmetic)\n",
    "  3. Pythonic way using tuple unpacking\n",
    "\n",
    "### 🔹 3. Bitwise Operators\n",
    "- Bitwise operations work on binary bits.\n",
    "- `&` → AND, `|` → OR, `^` → XOR\n",
    "- Used with integers like 35 and 40\n",
    "\n",
    "### 🔹 4. Packages, Modules & Functions\n",
    "- A **package** is a folder of **modules**  \n",
    "- A **module** is a file that can have **functions**  \n",
    "- Functions can be **built-in** or **user-defined**\n",
    "\n",
    "Example:  \n",
    "```python\n",
    "from dmart.food import pasta\n",
    "# dmart = package, food = module, pasta = function"
   ]
  },
  {
   "cell_type": "markdown",
   "id": "b3073ca5-7943-461d-a407-2e6f713aa350",
   "metadata": {},
   "source": [
    "### 🔹 5. Built-in Modules: math\n",
    "I imported the math module to use functions like sqrt() and pow()\n",
    "\n",
    "### 🔹 6. Taking Input from User\n",
    "I used the input() function to take values from users and perform calculations.\n"
   ]
  },
  {
   "cell_type": "markdown",
   "id": "ac1833a8-b832-4125-835b-2e1202b3c40c",
   "metadata": {},
   "source": [
    "# Code Practice\n",
    "## Convert 'fine' to 'dine'"
   ]
  },
  {
   "cell_type": "code",
   "execution_count": 1,
   "id": "388ecf47-79d0-4cc3-97aa-ac971447f96b",
   "metadata": {},
   "outputs": [
    {
     "name": "stdout",
     "output_type": "stream",
     "text": [
      "dine\n"
     ]
    }
   ],
   "source": [
    "word = \"fine\"\n",
    "new_word = 'd' + word[1:]\n",
    "print(new_word)  # Output: dine\n"
   ]
  },
  {
   "cell_type": "markdown",
   "id": "69c84251-6abe-4df4-b2e1-b420693229ba",
   "metadata": {},
   "source": [
    " ## Swap Two Numbers (3 Ways)"
   ]
  },
  {
   "cell_type": "code",
   "execution_count": 2,
   "id": "d3bb0a60-da52-4a2a-adbb-65dd12bad154",
   "metadata": {},
   "outputs": [
    {
     "name": "stdout",
     "output_type": "stream",
     "text": [
      "5 10\n",
      "5 10\n",
      "5 10\n"
     ]
    }
   ],
   "source": [
    "# 1. Using a third variable\n",
    "a = 10\n",
    "b = 5\n",
    "temp = a\n",
    "a = b\n",
    "b = temp\n",
    "print(a, b)  # 5 10\n",
    "\n",
    "# 2. Without using third variable\n",
    "a, b = 10, 5\n",
    "a = a + b\n",
    "b = a - b\n",
    "a = a - b\n",
    "print(a, b)  # 5 10\n",
    "\n",
    "# 3. Pythonic way\n",
    "a, b = 10, 5\n",
    "a, b = b, a\n",
    "print(a, b)  # 5 10\n"
   ]
  },
  {
   "cell_type": "markdown",
   "id": "ed167776-528e-43bb-a48f-3e9f3979480c",
   "metadata": {},
   "source": [
    "# Bitwise Operators\n",
    "### AND (&): 1 only if both bits are 1\n",
    "#### Rule: 1 & 1 = 1, 1 & 0 = 0, 0 & 1 = 0, 0 & 0 = 0\n",
    "print(\"5 & 3 =\", 5 & 3)  # 0101 & 0011 = 0001 → 1\n",
    "\n",
    "### OR (|): 1 if at least one bit is 1\n",
    "#### Rule: 1 | 1 = 1, 1 | 0 = 1, 0 | 1 = 1, 0 | 0 = 0\n",
    "print(\"5 | 3 =\", 5 | 3)  # 0101 | 0011 = 0111 → 7\n",
    "\n",
    "### XOR (^): 1 if bits are different\n",
    "#### Rule: 1 ^ 1 = 0, 1 ^ 0 = 1, 0 ^ 1 = 1, 0 ^ 0 = 0\n",
    "print(\"5 ^ 3 =\", 5 ^ 3)  # 0101 ^ 0011 = 0110 → 6\n",
    "\n",
    "### NOT (~): flips all bits (inverts 1→0 and 0→1), result is negative in Python\n",
    "print(\"~5 =\", ~5)        # ~00000101 = 11111010 → -6\n",
    "\n",
    "### Left Shift (<<): shifts bits left, like multiplying by 2\n",
    "print(\"5 << 1 =\", 5 << 1)  # 0101 → 1010 = 10\n",
    "\n",
    "### Right Shift (>>): shifts bits right, like dividing by 2\n",
    "print(\"5 >> 1 =\", 5 >> 1)  # 0101 → 0010 = 2\n"
   ]
  },
  {
   "cell_type": "code",
   "execution_count": 3,
   "id": "2ca63ea8-980a-4dc3-a3b5-75a87abec088",
   "metadata": {},
   "outputs": [
    {
     "name": "stdout",
     "output_type": "stream",
     "text": [
      "32\n",
      "43\n",
      "11\n"
     ]
    }
   ],
   "source": [
    "a = 35  # 00100011\n",
    "b = 40  # 00101000\n",
    "\n",
    "print(a & b)  # 32\n",
    "print(a | b)  # 43\n",
    "print(a ^ b)  # 11"
   ]
  },
  {
   "cell_type": "markdown",
   "id": "1e848d46-6771-4ba4-ac4e-fb0e975083e8",
   "metadata": {},
   "source": [
    " # Importing a Built-in Module (math)"
   ]
  },
  {
   "cell_type": "code",
   "execution_count": 4,
   "id": "16da073c-6661-4965-b608-45b27f04ef47",
   "metadata": {},
   "outputs": [
    {
     "name": "stdout",
     "output_type": "stream",
     "text": [
      "5.0\n",
      "16.0\n"
     ]
    }
   ],
   "source": [
    "import math\n",
    "print(math.sqrt(25))   # 5.0\n",
    "print(math.pow(2, 4))   # 16.0"
   ]
  },
  {
   "cell_type": "markdown",
   "id": "2f427464-fda5-4cef-b5b6-0acf5e47a60d",
   "metadata": {},
   "source": [
    "# Or"
   ]
  },
  {
   "cell_type": "code",
   "execution_count": 5,
   "id": "4d420590-b210-4abf-a41a-387642bdb08e",
   "metadata": {},
   "outputs": [
    {
     "name": "stdout",
     "output_type": "stream",
     "text": [
      "5.0\n",
      "16.0\n"
     ]
    }
   ],
   "source": [
    "import math as m \n",
    "print(m.sqrt(25))   # 5.0\n",
    "print(m.pow(2, 4))   # 16.0\n"
   ]
  },
  {
   "cell_type": "markdown",
   "id": "a78a8904-8489-4b7a-a005-ade5d0190da5",
   "metadata": {},
   "source": [
    "# Understanding input() and eval() in Python"
   ]
  },
  {
   "cell_type": "markdown",
   "id": "1e4e29aa-06a2-493c-90f5-a88dcffca328",
   "metadata": {},
   "source": [
    "## 1. input() Returns a String by Default\n",
    "Even if the user types 10, it's stored as a string, not a number."
   ]
  },
  {
   "cell_type": "code",
   "execution_count": 6,
   "id": "a1065c18-9bc6-4d6f-bfb9-88decffaddf5",
   "metadata": {},
   "outputs": [
    {
     "name": "stdin",
     "output_type": "stream",
     "text": [
      "Enter a number:  10\n"
     ]
    }
   ],
   "source": [
    "x = input(\"Enter a number: \")"
   ]
  },
  {
   "cell_type": "code",
   "execution_count": 8,
   "id": "c7ed131d-9509-4fc1-a2ed-b591f6fc610d",
   "metadata": {},
   "outputs": [
    {
     "name": "stdin",
     "output_type": "stream",
     "text": [
      "Enter 1st Number : 10\n",
      "Enter 2nd Number : 20\n"
     ]
    },
    {
     "name": "stdout",
     "output_type": "stream",
     "text": [
      "1020\n"
     ]
    }
   ],
   "source": [
    "x = input(\"Enter 1st Number :\")\n",
    "y = input(\"Enter 2nd Number :\")\n",
    "z = x + y\n",
    "print(z)"
   ]
  },
  {
   "cell_type": "markdown",
   "id": "0a1a60f5-68ca-4c9d-87a9-8f783969b57f",
   "metadata": {},
   "source": [
    "## Because it concatenates strings ('10' + '20' → '1020')"
   ]
  },
  {
   "cell_type": "markdown",
   "id": "7931e843-fd12-4021-8953-348c63d15d2e",
   "metadata": {},
   "source": [
    "# 2. Use int() to Convert to Integer\n",
    "To perform actual arithmetic (addition, subtraction, etc.), convert input to an integer:"
   ]
  },
  {
   "cell_type": "code",
   "execution_count": 9,
   "id": "59a509a1-fc81-4727-9d75-32f3d3429961",
   "metadata": {},
   "outputs": [
    {
     "name": "stdin",
     "output_type": "stream",
     "text": [
      "Enter the 1st number:  10\n",
      "Enter the 2nd number:  20\n"
     ]
    },
    {
     "name": "stdout",
     "output_type": "stream",
     "text": [
      "Sum is: 30\n"
     ]
    }
   ],
   "source": [
    "x1 = int(input(\"Enter the 1st number: \"))\n",
    "y1 = int(input(\"Enter the 2nd number: \"))\n",
    "z1 = x1 + y1\n",
    "print(\"Sum is:\", z1)"
   ]
  },
  {
   "cell_type": "markdown",
   "id": "92093eec-bf68-4c96-851e-6ce0df45d833",
   "metadata": {},
   "source": [
    "# 3. Use eval() to Auto-Detect Number Types"
   ]
  },
  {
   "cell_type": "code",
   "execution_count": 13,
   "id": "1f076518-ca10-4cfe-9d91-049c4b3b369d",
   "metadata": {},
   "outputs": [
    {
     "name": "stdin",
     "output_type": "stream",
     "text": [
      "Enter 1st number:  8\n",
      "Enter 2nd number:  2\n"
     ]
    },
    {
     "name": "stdout",
     "output_type": "stream",
     "text": [
      "Ans is: -3\n"
     ]
    }
   ],
   "source": [
    "x = eval(input(\"Enter 1st number: \"))\n",
    "y = eval(input(\"Enter 2nd number: \"))\n",
    "print(\"Ans is:\", 2 - x + 5 - y )"
   ]
  }
 ],
 "metadata": {
  "kernelspec": {
   "display_name": "Python 3 (ipykernel)",
   "language": "python",
   "name": "python3"
  },
  "language_info": {
   "codemirror_mode": {
    "name": "ipython",
    "version": 3
   },
   "file_extension": ".py",
   "mimetype": "text/x-python",
   "name": "python",
   "nbconvert_exporter": "python",
   "pygments_lexer": "ipython3",
   "version": "3.12.7"
  }
 },
 "nbformat": 4,
 "nbformat_minor": 5
}

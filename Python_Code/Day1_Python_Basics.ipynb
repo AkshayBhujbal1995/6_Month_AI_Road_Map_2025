{
 "cells": [
  {
   "cell_type": "markdown",
   "id": "5eef028e-eb7a-45f5-9e7b-f733bd532d41",
   "metadata": {},
   "source": [
    "# 🐍 Day 1 - Python Basics: Arithmetic Operations & Data Types"
   ]
  },
  {
   "cell_type": "markdown",
   "id": "61e01d44-2f76-46f5-a74b-11f72f31f975",
   "metadata": {},
   "source": [
    "Welcome to Day 1 of my Python learning journey! \n",
    "Today, I'm starting with the most essential concepts in Python — arithmetic operations and data types.  \n",
    "These fundamentals are the building blocks for data analysis, generative AI, and agentic AI development.\n"
   ]
  },
  {
   "cell_type": "markdown",
   "id": "055b1321-00ad-4661-a5ce-c9100b2e41ef",
   "metadata": {},
   "source": [
    "# Learned how to perform arithmetic operations in Python."
   ]
  },
  {
   "cell_type": "code",
   "execution_count": 2,
   "id": "3ab5d2af-180d-4b01-82aa-fab213a991fa",
   "metadata": {},
   "outputs": [
    {
     "name": "stdout",
     "output_type": "stream",
     "text": [
      "5\n",
      "1\n",
      "6\n",
      "1.5\n",
      "9\n",
      "1\n",
      "1\n"
     ]
    }
   ],
   "source": [
    "print(3 + 2)   # addition(+)\n",
    "print(3 - 2)   # subtraction(-)\n",
    "print(3 * 2)   # multiplication(*)\n",
    "print(3 / 2)   # division(/) \n",
    "print(3 ** 2)  # exponential(**)\n",
    "print(3 % 2)   # modulus(%)\n",
    "print(3 // 2)  # Floor division operator(//)"
   ]
  },
  {
   "cell_type": "markdown",
   "id": "da9bb7c9-9cef-433e-951a-b4099f2f2052",
   "metadata": {},
   "source": [
    "# Explored basic built-in data type"
   ]
  },
  {
   "cell_type": "code",
   "execution_count": 3,
   "id": "c3bef873-c5f5-42d4-8dc7-b760522ce241",
   "metadata": {},
   "outputs": [
    {
     "name": "stdout",
     "output_type": "stream",
     "text": [
      "<class 'int'>\n",
      "<class 'float'>\n",
      "<class 'complex'>\n",
      "<class 'str'>\n",
      "<class 'list'>\n",
      "<class 'dict'>\n",
      "<class 'set'>\n",
      "<class 'tuple'>\n",
      "<class 'bool'>\n",
      "<class 'bool'>\n"
     ]
    }
   ],
   "source": [
    "print(type(10))                  # Int\n",
    "print(type(3.14))                # Float\n",
    "print(type(1 + 3j))              # Complex\n",
    "print(type('AkshayBhujbal'))   # String\n",
    "print(type([1, 2, 3]))           # List\n",
    "print(type({'name':'Akshay'})) # Dictionary\n",
    "print(type({9.8, 3.14, 2.7}))    # Set\n",
    "print(type((9.8, 3.14, 2.7)))    # Tuple\n",
    "print(type(3 == 3))              # Bool\n",
    "print(type(3 >= 3))              # Bool"
   ]
  },
  {
   "cell_type": "code",
   "execution_count": null,
   "id": "2fcf5e7d-e35d-420f-9f4d-d087cc1ea6c5",
   "metadata": {},
   "outputs": [],
   "source": []
  }
 ],
 "metadata": {
  "kernelspec": {
   "display_name": "Python 3 (ipykernel)",
   "language": "python",
   "name": "python3"
  },
  "language_info": {
   "codemirror_mode": {
    "name": "ipython",
    "version": 3
   },
   "file_extension": ".py",
   "mimetype": "text/x-python",
   "name": "python",
   "nbconvert_exporter": "python",
   "pygments_lexer": "ipython3",
   "version": "3.12.7"
  }
 },
 "nbformat": 4,
 "nbformat_minor": 5
}

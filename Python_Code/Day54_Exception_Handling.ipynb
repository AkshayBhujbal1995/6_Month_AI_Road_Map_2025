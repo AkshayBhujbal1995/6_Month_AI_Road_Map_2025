{
 "cells": [
  {
   "cell_type": "markdown",
   "id": "652a83c7-0eb3-40fa-a2e9-c1f62f6e4d9f",
   "metadata": {},
   "source": [
    "**Python Exception Handling: From Basics to Advanced**\n",
    "\n",
    "**What is Exception Handling?**\n",
    "**Exception Handling** in Python is a mechanism that allows you to gracefully respond to errors (called **exceptions**) that occur during program execution. Instead of crashing, your program can catch the error and continue or display a meaningful message.\n",
    "\n",
    "**Why Use It?**\n",
    "    \n",
    "- Prevents your program from crashing on runtime errors\n",
    "- Helps in debugging and maintaining large applications\n",
    "- Allows clean-up operations (e.g., closing files, releasing resources)\n",
    "\n",
    "\n",
    "\n",
    "**How It Works:**\n",
    "    \n",
    "When Python encounters an error during code execution, it:\n",
    "\n",
    "1. **Raises** an exception.\n",
    "2. Looks for a **`try` block** to catch it.\n",
    "3. If found, runs the corresponding **`except` block**.\n",
    "4. Optionally runs **`else`** (if no error occurred).\n",
    "5. Always runs **`finally`**, whether there was an exception or not.\n",
    "\n",
    "\n",
    "\n",
    "**Syntax of Exception Handling:**\n",
    "    \n",
    "```python\n",
    "try:\n",
    "    # Code that might cause an exception\n",
    "except SomeException:\n",
    "    # Code that runs if exception occurs\n",
    "else:\n",
    "    # Runs if no exception occurs\n",
    "finally:\n",
    "    # Always runs (clean-up code)\n",
    "```\n",
    "\n",
    "\n",
    "**Built-in Exception Types:**\n",
    "\n",
    "| Exception           | Description |\n",
    "|---------------------|-------------|\n",
    "| `ZeroDivisionError` | Dividing by zero |\n",
    "| `ValueError`        | Invalid type (e.g., string to int) |\n",
    "| `IndexError`        | Invalid index for list/tuple |\n",
    "| `KeyError`          | Accessing invalid dict key |\n",
    "| `TypeError`         | Wrong type of operation |\n",
    "\n"
   ]
  },
  {
   "cell_type": "markdown",
   "id": "2ad49c03-3790-4e0c-b91a-2b631c9b90aa",
   "metadata": {},
   "source": [
    "# Basic Examples"
   ]
  },
  {
   "cell_type": "markdown",
   "id": "dcc12a51-3be7-44a0-a971-c0ec27e85f6f",
   "metadata": {},
   "source": [
    "## Division by Zero"
   ]
  },
  {
   "cell_type": "code",
   "execution_count": 1,
   "id": "4936ce71-e3a7-42bc-bce4-e07984061c2c",
   "metadata": {},
   "outputs": [
    {
     "name": "stdout",
     "output_type": "stream",
     "text": [
      "You cannot divide by zero!\n"
     ]
    }
   ],
   "source": [
    "try:\n",
    "    result = 10 / 0\n",
    "except ZeroDivisionError:\n",
    "    print(\"You cannot divide by zero!\")"
   ]
  },
  {
   "cell_type": "markdown",
   "id": "17079e61-7c25-45e3-9c3b-60f269ee7525",
   "metadata": {},
   "source": [
    "## String Conversion Error"
   ]
  },
  {
   "cell_type": "code",
   "execution_count": 2,
   "id": "4c40b5d9-0d52-4d05-9355-1112fc54c4f2",
   "metadata": {},
   "outputs": [
    {
     "name": "stdout",
     "output_type": "stream",
     "text": [
      "Invalid input, please enter a number: invalid literal for int() with base 10: 'twenty'\n"
     ]
    }
   ],
   "source": [
    "try:\n",
    "    age = int(\"twenty\")\n",
    "except ValueError as ve:\n",
    "    print(\"Invalid input, please enter a number:\", ve)"
   ]
  },
  {
   "cell_type": "markdown",
   "id": "e38a1fb1-0fc5-45c9-9f7d-2d4404816ce2",
   "metadata": {},
   "source": [
    "#  `else`, `finally`, and Multiple Exceptions"
   ]
  },
  {
   "cell_type": "markdown",
   "id": "5669148c-e277-4b7e-bf9f-e8324732d794",
   "metadata": {},
   "source": [
    "# Using `else`"
   ]
  },
  {
   "cell_type": "code",
   "execution_count": 3,
   "id": "991e5541-257f-4d4f-8ad9-82b970d5e230",
   "metadata": {},
   "outputs": [
    {
     "name": "stdin",
     "output_type": "stream",
     "text": [
      "Enter a number:  8\n"
     ]
    },
    {
     "name": "stdout",
     "output_type": "stream",
     "text": [
      "Input was successfully processed.\n"
     ]
    }
   ],
   "source": [
    "try:\n",
    "    num = int(input(\"Enter a number: \"))\n",
    "except ValueError:\n",
    "    print(\"That's not a valid number!\")\n",
    "else:\n",
    "    print(\"Input was successfully processed.\")"
   ]
  },
  {
   "cell_type": "code",
   "execution_count": 4,
   "id": "17ba6959-65df-482a-b817-31b0ea9e964d",
   "metadata": {},
   "outputs": [
    {
     "name": "stdin",
     "output_type": "stream",
     "text": [
      "Enter a number:  *8*\n"
     ]
    },
    {
     "name": "stdout",
     "output_type": "stream",
     "text": [
      "That's not a valid number!\n"
     ]
    }
   ],
   "source": [
    "try:\n",
    "    num = int(input(\"Enter a number: \"))\n",
    "except ValueError:\n",
    "    print(\"That's not a valid number!\")\n",
    "else:\n",
    "    print(\"Input was successfully processed.\")"
   ]
  },
  {
   "cell_type": "markdown",
   "id": "c79b7dd3-5c1c-4d29-9349-aa5d92d118b6",
   "metadata": {},
   "source": [
    "## Using `finally`"
   ]
  },
  {
   "cell_type": "code",
   "execution_count": 5,
   "id": "1677c22d-bf1d-45fc-8b88-c84b23f6ee6d",
   "metadata": {},
   "outputs": [
    {
     "name": "stdout",
     "output_type": "stream",
     "text": [
      "File not found.\n",
      "This runs no matter what!\n"
     ]
    }
   ],
   "source": [
    "try:\n",
    "    f = open(\"sample.txt\", \"r\")\n",
    "    print(f.read())\n",
    "except FileNotFoundError:\n",
    "    print(\"File not found.\")\n",
    "finally:\n",
    "    print(\"This runs no matter what!\")"
   ]
  },
  {
   "cell_type": "markdown",
   "id": "a26137fc-d0cc-492f-a9be-fd0cb28f15a9",
   "metadata": {},
   "source": [
    "## Multiple Exception Types"
   ]
  },
  {
   "cell_type": "code",
   "execution_count": 6,
   "id": "4bfebc95-d20f-4785-a9d1-817e7078803e",
   "metadata": {},
   "outputs": [
    {
     "name": "stdout",
     "output_type": "stream",
     "text": [
      "Index is out of range.\n"
     ]
    }
   ],
   "source": [
    "try:\n",
    "    nums = [1, 2, 3]\n",
    "    print(nums[5])\n",
    "except IndexError:\n",
    "    print(\"Index is out of range.\")\n",
    "except Exception as e:\n",
    "    print(\"Some other error occurred:\", e)"
   ]
  },
  {
   "cell_type": "markdown",
   "id": "89d48f7a-ac98-4b24-a23b-340b18dc7d1b",
   "metadata": {},
   "source": [
    "# Raising and Custom Exceptions"
   ]
  },
  {
   "cell_type": "markdown",
   "id": "73f11d88-1568-48e3-b6b7-2377785c5f2f",
   "metadata": {},
   "source": [
    "## Raising Errors with `raise`"
   ]
  },
  {
   "cell_type": "code",
   "execution_count": 7,
   "id": "c7895ed6-6a7a-490a-9834-1c84a2c68d29",
   "metadata": {},
   "outputs": [
    {
     "ename": "ValueError",
     "evalue": "Age cannot be negative!",
     "output_type": "error",
     "traceback": [
      "\u001b[1;31m---------------------------------------------------------------------------\u001b[0m",
      "\u001b[1;31mValueError\u001b[0m                                Traceback (most recent call last)",
      "Cell \u001b[1;32mIn[7], line 3\u001b[0m\n\u001b[0;32m      1\u001b[0m age \u001b[38;5;241m=\u001b[39m \u001b[38;5;241m-\u001b[39m\u001b[38;5;241m5\u001b[39m\n\u001b[0;32m      2\u001b[0m \u001b[38;5;28;01mif\u001b[39;00m age \u001b[38;5;241m<\u001b[39m \u001b[38;5;241m0\u001b[39m:\n\u001b[1;32m----> 3\u001b[0m     \u001b[38;5;28;01mraise\u001b[39;00m \u001b[38;5;167;01mValueError\u001b[39;00m(\u001b[38;5;124m\"\u001b[39m\u001b[38;5;124mAge cannot be negative!\u001b[39m\u001b[38;5;124m\"\u001b[39m)\n",
      "\u001b[1;31mValueError\u001b[0m: Age cannot be negative!"
     ]
    }
   ],
   "source": [
    "age = -5\n",
    "if age < 0:\n",
    "    raise ValueError(\"Age cannot be negative!\")"
   ]
  },
  {
   "cell_type": "markdown",
   "id": "aaf00cd0-f11d-4b4c-929d-c528acd3a0e4",
   "metadata": {},
   "source": [
    "## Custom Exception Class"
   ]
  },
  {
   "cell_type": "code",
   "execution_count": 8,
   "id": "8ebdf5b3-df01-4792-bf4d-84a473e4fab9",
   "metadata": {},
   "outputs": [
    {
     "name": "stdout",
     "output_type": "stream",
     "text": [
      "Custom error: Password is too short!\n"
     ]
    }
   ],
   "source": [
    "class WeakPasswordError(Exception):\n",
    "    pass\n",
    "\n",
    "def check_password(password):\n",
    "    if len(password) < 6:\n",
    "        raise WeakPasswordError(\"Password is too short!\")\n",
    "\n",
    "try:\n",
    "    check_password(\"123\")\n",
    "except WeakPasswordError as wpe:\n",
    "    print(\"Custom error:\", wpe)"
   ]
  },
  {
   "cell_type": "markdown",
   "id": "dd53c97f-23c6-405f-b474-48fab79742d0",
   "metadata": {},
   "source": [
    "# Best Practices & Exception Tree"
   ]
  },
  {
   "cell_type": "markdown",
   "id": "649a268a-0587-4a25-9c82-fdb7565e8b24",
   "metadata": {},
   "source": [
    "## Avoid Generic `except:`"
   ]
  },
  {
   "cell_type": "code",
   "execution_count": 9,
   "id": "603886a6-5b36-4ae9-b885-779bc953ddb0",
   "metadata": {},
   "outputs": [],
   "source": [
    "try:\n",
    "    x = 10 / 2\n",
    "except Exception as e:\n",
    "    print(\"Handled error:\", e)"
   ]
  },
  {
   "cell_type": "markdown",
   "id": "fbd5da5a-491c-4bcf-9699-74e68aa4c4e8",
   "metadata": {},
   "source": [
    "## Use Logging Instead of Print"
   ]
  },
  {
   "cell_type": "code",
   "execution_count": 10,
   "id": "5a4d69e7-b367-4160-b809-5b7782fc328d",
   "metadata": {},
   "outputs": [
    {
     "name": "stderr",
     "output_type": "stream",
     "text": [
      "ERROR:root:ZeroDivisionError occurred: division by zero\n"
     ]
    }
   ],
   "source": [
    "import logging\n",
    "logging.basicConfig(level=logging.ERROR)\n",
    "\n",
    "try:\n",
    "    result = 10 / 0\n",
    "except ZeroDivisionError as e:\n",
    "    logging.error(\"ZeroDivisionError occurred: %s\", e)"
   ]
  },
  {
   "cell_type": "markdown",
   "id": "5efba8be-d7b9-4a7b-9f60-531e37345dd4",
   "metadata": {},
   "source": [
    "**Python Exception Hierarchy**\n",
    "- BaseException\n",
    "    - Exception\n",
    "        - ArithmeticError\n",
    "        - LookupError\n",
    "        - ValueError\n",
    "        - etc."
   ]
  },
  {
   "cell_type": "markdown",
   "id": "30e9f77c-fabe-4ab5-982d-5ec0860637b0",
   "metadata": {},
   "source": [
    "# Real-Life Fun Examples"
   ]
  },
  {
   "cell_type": "markdown",
   "id": "cb6f09b7-2f4b-4644-bebe-43e2b341baed",
   "metadata": {},
   "source": [
    "## Pizza Sharing (Divide by Zero)"
   ]
  },
  {
   "cell_type": "code",
   "execution_count": 11,
   "id": "847a34fd-71a4-4210-a1ec-0c4057f91c27",
   "metadata": {},
   "outputs": [
    {
     "name": "stdout",
     "output_type": "stream",
     "text": [
      "You can't divide pizza by zero people!\n"
     ]
    }
   ],
   "source": [
    "people = 0\n",
    "try:\n",
    "    print(\"Each person gets\", 8 // people, \"slices\")\n",
    "except ZeroDivisionError:\n",
    "    print(\"You can't divide pizza by zero people!\")"
   ]
  },
  {
   "cell_type": "markdown",
   "id": "8a931a8a-5123-4b23-a94b-ea4c8dda0a0a",
   "metadata": {},
   "source": [
    "##  ATM Withdrawal"
   ]
  },
  {
   "cell_type": "code",
   "execution_count": 12,
   "id": "de7067a7-584a-43bd-9e7d-8b214059e563",
   "metadata": {},
   "outputs": [
    {
     "name": "stdin",
     "output_type": "stream",
     "text": [
      "Enter amount to withdraw:  855\n"
     ]
    },
    {
     "name": "stdout",
     "output_type": "stream",
     "text": [
      "New balance: 145\n"
     ]
    }
   ],
   "source": [
    "balance = 1000\n",
    "withdraw = int(input(\"Enter amount to withdraw: \"))\n",
    "try:\n",
    "    if withdraw > balance:\n",
    "        raise Exception(\"Insufficient Balance\")\n",
    "    balance -= withdraw\n",
    "    print(\"New balance:\", balance)\n",
    "except Exception as e:\n",
    "    print(e)"
   ]
  },
  {
   "cell_type": "code",
   "execution_count": 13,
   "id": "4073e871-7850-44cd-ad32-5b38ce38d99a",
   "metadata": {},
   "outputs": [
    {
     "name": "stdin",
     "output_type": "stream",
     "text": [
      "Enter amount to withdraw:  5000\n"
     ]
    },
    {
     "name": "stdout",
     "output_type": "stream",
     "text": [
      "Insufficient Balance\n"
     ]
    }
   ],
   "source": [
    "balance = 1000\n",
    "withdraw = int(input(\"Enter amount to withdraw: \"))\n",
    "try:\n",
    "    if withdraw > balance:\n",
    "        raise Exception(\"Insufficient Balance\")\n",
    "    balance -= withdraw\n",
    "    print(\"New balance:\", balance)\n",
    "except Exception as e:\n",
    "    print(e)"
   ]
  },
  {
   "cell_type": "code",
   "execution_count": 14,
   "id": "c39d28e2-aa47-4a59-a4f0-fad36b954b3e",
   "metadata": {},
   "outputs": [
    {
     "name": "stdin",
     "output_type": "stream",
     "text": [
      "Enter amount to withdraw:  1000\n"
     ]
    },
    {
     "name": "stdout",
     "output_type": "stream",
     "text": [
      "New balance: 0\n"
     ]
    }
   ],
   "source": [
    "balance = 1000\n",
    "withdraw = int(input(\"Enter amount to withdraw: \"))\n",
    "try:\n",
    "    if withdraw > balance:\n",
    "        raise Exception(\"Insufficient Balance\")\n",
    "    balance -= withdraw\n",
    "    print(\"New balance:\", balance)\n",
    "except Exception as e:\n",
    "    print(e)"
   ]
  },
  {
   "cell_type": "markdown",
   "id": "e448d4a3-586a-4c41-a05f-f5a731232c80",
   "metadata": {},
   "source": [
    "## Login System"
   ]
  },
  {
   "cell_type": "code",
   "execution_count": 15,
   "id": "adcc2b79-3971-4fec-8755-1b28b0f6893e",
   "metadata": {},
   "outputs": [
    {
     "name": "stdout",
     "output_type": "stream",
     "text": [
      "Invalid credentials\n"
     ]
    }
   ],
   "source": [
    "def login(username, password):\n",
    "    if username != \"admin\" or password != \"123\":\n",
    "        raise ValueError(\"Invalid credentials\")\n",
    "    return \"Login Successful\"\n",
    "\n",
    "try:\n",
    "    print(login(\"user\", \"wrong\"))\n",
    "except ValueError as e:\n",
    "    print(e)"
   ]
  },
  {
   "cell_type": "markdown",
   "id": "261e1a93-7bd0-474d-8637-ad29a606806b",
   "metadata": {},
   "source": [
    "# Practice Challenges (With Solutions)"
   ]
  },
  {
   "cell_type": "markdown",
   "id": "359579e0-0753-4c63-a73d-79f71b596630",
   "metadata": {},
   "source": [
    "## Handle input error"
   ]
  },
  {
   "cell_type": "code",
   "execution_count": 16,
   "id": "a58541d0-1211-4051-a513-db74a90ee6c9",
   "metadata": {},
   "outputs": [],
   "source": [
    "def get_integer():\n",
    "    try:\n",
    "        return int(input(\"Enter a number: \"))\n",
    "    except ValueError:\n",
    "        print(\"Not a number!\")\n",
    "        return 0"
   ]
  },
  {
   "cell_type": "markdown",
   "id": "8686d1f9-75a0-4b92-b4da-8efe9bd3ccaa",
   "metadata": {},
   "source": [
    "## Custom Exception for Bank"
   ]
  },
  {
   "cell_type": "code",
   "execution_count": 17,
   "id": "9bf9751e-e898-4f22-91f4-12ef5c76dd74",
   "metadata": {},
   "outputs": [
    {
     "name": "stdout",
     "output_type": "stream",
     "text": [
      "Banking Error: Not enough money!\n"
     ]
    }
   ],
   "source": [
    "class InsufficientBalance(Exception):\n",
    "    pass\n",
    "\n",
    "def withdraw(balance, amount):\n",
    "    if amount > balance:\n",
    "        raise InsufficientBalance(\"Not enough money!\")\n",
    "    return balance - amount\n",
    "\n",
    "try:\n",
    "    print(withdraw(500, 800))\n",
    "except InsufficientBalance as e:\n",
    "    print(\"Banking Error:\", e)"
   ]
  },
  {
   "cell_type": "markdown",
   "id": "35c91c51-4627-4c5d-b0ff-66aadf296b46",
   "metadata": {},
   "source": [
    "## Marks Validator"
   ]
  },
  {
   "cell_type": "code",
   "execution_count": 18,
   "id": "61e1189b-ac93-4538-bd74-d9ff63d8fc1e",
   "metadata": {},
   "outputs": [
    {
     "name": "stdout",
     "output_type": "stream",
     "text": [
      "Valid\n"
     ]
    }
   ],
   "source": [
    "def validate_marks(marks):\n",
    "    if not 0 <= marks <= 100:\n",
    "        raise ValueError(\"Marks must be between 0 and 100\")\n",
    "    return \"Valid\"\n",
    "\n",
    "print(validate_marks(75))\n",
    "# print(validate_marks(120))  # Uncomment to test"
   ]
  },
  {
   "cell_type": "markdown",
   "id": "8e0d0160-6e48-4641-9aac-2039b0587aab",
   "metadata": {},
   "source": [
    "**Summary**\n",
    "\n",
    "- Always use specific exceptions (`ValueError`, `ZeroDivisionError`, etc.)\n",
    "- Use `else` for code that should only run if no error occurs\n",
    "- Use `finally` for clean-up actions\n",
    "- Raise custom errors for more readable and maintainable code\n",
    "\n",
    "Exception handling is a **superpower** that makes your code **robust, secure, and production-ready**.\n",
    "\n",
    "Keep practicing by adding exception handling to every mini project you build!\n"
   ]
  }
 ],
 "metadata": {
  "kernelspec": {
   "display_name": "Python 3 (ipykernel)",
   "language": "python",
   "name": "python3"
  },
  "language_info": {
   "codemirror_mode": {
    "name": "ipython",
    "version": 3
   },
   "file_extension": ".py",
   "mimetype": "text/x-python",
   "name": "python",
   "nbconvert_exporter": "python",
   "pygments_lexer": "ipython3",
   "version": "3.13.5"
  }
 },
 "nbformat": 4,
 "nbformat_minor": 5
}

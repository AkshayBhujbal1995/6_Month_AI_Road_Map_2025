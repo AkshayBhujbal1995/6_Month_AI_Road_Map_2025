{
 "cells": [
  {
   "cell_type": "markdown",
   "id": "c9a89fd2-0537-4d5b-ad60-c63672dfe9f4",
   "metadata": {},
   "source": [
    " **Practical: Agentic AI with AGNO**\n",
    "\n",
    "# **Introduction**\n",
    "\n",
    "**What we learned yesterday (Day 96 theory recap):**\n",
    "\n",
    "* **Agentic AI** refers to AI systems that act autonomously to achieve goals. Unlike simple AI, it can **plan, reason, and take sequential actions**.\n",
    "\n",
    "# **Key Concepts:**\n",
    "\n",
    "* **Agent:** An AI entity that perceives its environment and acts.\n",
    "* **Agency:** The ability to act independently and make decisions.\n",
    "* **Tools:** External functions or modules the agent can use (e.g., calculator, web search).\n",
    "* **Reasoning:** Deductive, inductive, or abductive logic used to achieve goals.\n",
    "\n",
    "# **Types of Agents:**\n",
    "\n",
    "1. **Simple Agent:** Executes tasks directly.\n",
    "2. **Reasoning Agent:** Plans multi-step actions using tools.\n",
    "3. **Multimodal Agent:** Handles different input/output types (text, image, audio).\n",
    "\n",
    "# **Frameworks & APIs for Agentic AI:**\n",
    "\n",
    "## **Agent Frameworks:**\n",
    "\n",
    "* **AGNO (formerly PhiData)** — lightweight, reliable, supports multi-agent and multi-tool setups, convenient without Google services.\n",
    "* **LangChain** — Python framework for building agents, chains, and integrations with LLMs.\n",
    "* **AutoGPT / BabyAGI** — autonomous agents for goal-driven tasks using LLMs.\n",
    "* **Hugging Face Transformers** — wide range of pre-trained models for NLP, vision, and multimodal tasks.\n",
    "* **LlamaIndex (GPT Index)** — tool to structure knowledge for agents.\n",
    "* **OpenAI Function Calling** — enables LLMs to call external tools via API.\n",
    "\n",
    "## **LLM Options:**\n",
    "\n",
    "| Type                    | Name / Framework                | Access / Cost       | Notes                                           |\n",
    "| ----------------------- | ------------------------------- | ------------------- | ----------------------------------------------- |\n",
    "| **Free Cloud**          | OpenAI GPT-3.5                  | Free tier available | Great for prototyping, limited tokens/min       |\n",
    "|                         | OpenAI GPT-4                    | Paid                | Better reasoning, higher token limit            |\n",
    "|                         | Cohere                          | Free & Paid         | NLP-focused, embeddings available               |\n",
    "|                         | Anthropic Claude                | Free tier & Paid    | Strong alignment and reasoning                  |\n",
    "| **Paid Cloud**          | OpenAI GPT-4 / GPT-3.5 Turbo    | Paid                | Industry standard, cloud API                    |\n",
    "|                         | Groq LLM (llama-3.1-8b-instant) | Paid                | High-speed, supports multi-agent streaming      |\n",
    "|                         | AI21 Studio (Jurassic-2)        | Paid                | Text generation & reasoning                     |\n",
    "| **Local / Open Source** | LLaMA (Meta)                    | Free                | Requires GPU, good for experimentation          |\n",
    "|                         | MPT (MosaicML)                  | Free & Paid         | Open weights, fast training options             |\n",
    "|                         | Falcon 7B / 40B                 | Free                | Open weights, good for reasoning                |\n",
    "|                         | GPT4All                         | Free                | Local chat model, easy setup                    |\n",
    "|                         | Vicuna / Alpaca                 | Free                | Fine-tuned LLaMA derivatives, lightweight       |\n",
    "| **Hybrid / Embeddings** | Sentence-Transformers           | Free                | Generate vector embeddings for retrieval agents |\n",
    "|                         | ChromaDB / Weaviate             | Free & Paid         | Vector DB for knowledge agents                  |\n",
    "\n",
    "> **Tip:** Start with **AGNO + a free cloud LLM** for learning, then move to **paid or local LLMs** for more intensive projects.\n",
    "\n",
    "# **Practical Goal for Today:**\n",
    "\n",
    "* Implement:\n",
    "\n",
    "  1. **Simple Agent**\n",
    "  2. **Reasoning Agent with Tools**\n",
    "  3. **Multi-Tool Agent**\n",
    "  4. **Multi-Agent Team**\n",
    "\n",
    "> We will use **AGNO** to create agents, integrate tools (calculator, translator, web search, finance data), and run multi-agent teamwork to solve complex tasks.\n",
    "\n",
    "## **Why AGNO:**\n",
    "\n",
    "* Reliable and lightweight.\n",
    "* Supports **tool integration** and **multi-agent coordination**.\n",
    "* Convenient for offline testing.\n",
    "* Almost all features work out-of-the-box except some integrations (e.g., Google services).\n",
    "\n",
    "## **Hands-On Exercises / Possible Workflows:**\n",
    "\n",
    "* Create a **single agent** that answers questions.\n",
    "* Create an agent using **tools** (calculator, translator).\n",
    "* Build a **multi-tool agent** that can solve different types of tasks.\n",
    "* Build a **multi-agent team** (Web Agent + Finance Agent) and coordinate tasks.\n",
    "* Extend agents with **custom tools** for finance, web scraping, translation, or table summarization.\n",
    "\n",
    "> **Note:**  \n",
    "> This notebook is used primarily for **documentation and practical demonstration** of Agentic AI with AGNO.\n",
    "  \n",
    "> The output formatting in the notebook is designed for **interactive display**, which may appear differently when exported to PDF.\n",
    " \n",
    "> Streamed or rich outputs (like agent responses) are **not fully preserved in PDF exports**.\n",
    "\n",
    "> To see the actual results, always **run the notebook directly**.\n"
   ]
  },
  {
   "cell_type": "markdown",
   "id": "0547557a-35c0-4a04-9151-3d44a1c78cf1",
   "metadata": {},
   "source": [
    "# Simple Agent\n",
    "This agent answers a simple question without using any tools.\n",
    "\n",
    "- We imported Agent and Groq from AGNO.\n",
    "- agent1 is a simple AI agent that uses the Groq model.\n",
    "- print_response sends a prompt to the agent and prints the output."
   ]
  },
  {
   "cell_type": "code",
   "execution_count": 14,
   "id": "3c0c19a8-c864-41ce-bb10-1413eabf3da4",
   "metadata": {},
   "outputs": [
    {
     "data": {
      "application/vnd.jupyter.widget-view+json": {
       "model_id": "b4fc48e7a5ba42c9afa4931991cb0229",
       "version_major": 2,
       "version_minor": 0
      },
      "text/plain": [
       "Output()"
      ]
     },
     "metadata": {},
     "output_type": "display_data"
    },
    {
     "data": {
      "text/html": [
       "<pre style=\"white-space:pre;overflow-x:auto;line-height:normal;font-family:Menlo,'DejaVu Sans Mono',consolas,'Courier New',monospace\"></pre>\n"
      ],
      "text/plain": []
     },
     "metadata": {},
     "output_type": "display_data"
    }
   ],
   "source": [
    "from agno.agent import Agent\n",
    "from agno.models.groq import Groq\n",
    "from dotenv import load_dotenv\n",
    "\n",
    "# Load environment variables (API keys)\n",
    "load_dotenv()\n",
    "\n",
    "# Create a simple AI agent\n",
    "agent1 = Agent(\n",
    "    model=Groq(id=\"llama-3.1-8b-instant\"),  # Groq model used\n",
    "    description=\"You are a smart assistant that answers clearly and simply.\",\n",
    "    markdown=True\n",
    ")\n",
    "\n",
    "# Ask the agent a question\n",
    "agent1.print_response(\"Hello! What is Agentic AI?\", stream=True)"
   ]
  },
  {
   "cell_type": "markdown",
   "id": "087e3729-ee47-4cef-92fb-de26922808a3",
   "metadata": {},
   "source": [
    "> *Note: For proper formatting, view this output in the notebook; PDF export may not preserve it.*"
   ]
  },
  {
   "cell_type": "markdown",
   "id": "bc8686f6-8ad5-4332-bc6d-4cf504dbab41",
   "metadata": {},
   "source": [
    "# Reasoning Agent with One Tool (Calculator)\n",
    "Here, we add a Calculator tool for the agent.\n",
    "\n",
    "- Tools are passed as a dictionary: `{ \"ToolName\": function }`.\n",
    "- The agent can now call the calculator tool when prompted."
   ]
  },
  {
   "cell_type": "code",
   "execution_count": 15,
   "id": "f43f49a7-2c3c-4d75-b92d-bb1db4ccfacd",
   "metadata": {},
   "outputs": [
    {
     "data": {
      "application/vnd.jupyter.widget-view+json": {
       "model_id": "d87054ad9912482f842ff6bc762a14c0",
       "version_major": 2,
       "version_minor": 0
      },
      "text/plain": [
       "Output()"
      ]
     },
     "metadata": {},
     "output_type": "display_data"
    },
    {
     "data": {
      "text/html": [
       "<pre style=\"white-space:pre;overflow-x:auto;line-height:normal;font-family:Menlo,'DejaVu Sans Mono',consolas,'Courier New',monospace\"></pre>\n"
      ],
      "text/plain": []
     },
     "metadata": {},
     "output_type": "display_data"
    }
   ],
   "source": [
    "# Define the calculator function\n",
    "def calculator(expression):\n",
    "    try:\n",
    "        return str(eval(expression))  # Evaluate math expression\n",
    "    except Exception as e:\n",
    "        return f\"Error: {e}\"\n",
    "\n",
    "# Create agent and pass tools as a dictionary\n",
    "agent2 = Agent(\n",
    "    model=Groq(id=\"llama-3.1-8b-instant\"),\n",
    "    description=\"You are an agent that can use tools when needed.\",\n",
    "    tools={\"Calculator\": calculator},  # Add the calculator tool\n",
    "    markdown=True\n",
    ")\n",
    "\n",
    "# Test the Calculator tool\n",
    "agent2.print_response(\"Use the Calculator to compute 25 * 4 + 10\", stream=True)"
   ]
  },
  {
   "cell_type": "markdown",
   "id": "f9441fc7-7ac8-4537-898c-25adc6baf741",
   "metadata": {},
   "source": [
    "> *Note: For proper formatting, view this output in the notebook; PDF export may not preserve it.*"
   ]
  },
  {
   "cell_type": "markdown",
   "id": "656f3429-0fdf-4b99-af12-938037ae6b12",
   "metadata": {},
   "source": [
    "# Agent with Two Tools (Calculator + Translator)\n",
    "Now the agent can do math calculations and translate text.\n",
    "\n",
    "- Multiple tools can be passed in the tools dictionary.\n",
    "- The agent can decide which tool to use based on the prompt."
   ]
  },
  {
   "cell_type": "code",
   "execution_count": 16,
   "id": "32382b4e-c943-4b86-aa39-7489f6bd4221",
   "metadata": {},
   "outputs": [
    {
     "data": {
      "application/vnd.jupyter.widget-view+json": {
       "model_id": "ef534b902e934166b856cfc2e6c09a28",
       "version_major": 2,
       "version_minor": 0
      },
      "text/plain": [
       "Output()"
      ]
     },
     "metadata": {},
     "output_type": "display_data"
    },
    {
     "data": {
      "text/html": [
       "<pre style=\"white-space:pre;overflow-x:auto;line-height:normal;font-family:Menlo,'DejaVu Sans Mono',consolas,'Courier New',monospace\"></pre>\n"
      ],
      "text/plain": []
     },
     "metadata": {},
     "output_type": "display_data"
    },
    {
     "data": {
      "application/vnd.jupyter.widget-view+json": {
       "model_id": "f3445309c4644a498f7a8c561896720b",
       "version_major": 2,
       "version_minor": 0
      },
      "text/plain": [
       "Output()"
      ]
     },
     "metadata": {},
     "output_type": "display_data"
    },
    {
     "data": {
      "text/html": [
       "<pre style=\"white-space:pre;overflow-x:auto;line-height:normal;font-family:Menlo,'DejaVu Sans Mono',consolas,'Courier New',monospace\"></pre>\n"
      ],
      "text/plain": []
     },
     "metadata": {},
     "output_type": "display_data"
    }
   ],
   "source": [
    "# Tool 1: Calculator\n",
    "def calculator(expression):\n",
    "    try:\n",
    "        return str(eval(expression))\n",
    "    except Exception as e:\n",
    "        return f\"Error: {e}\"\n",
    "\n",
    "# Tool 2: Translator\n",
    "def translator(text):\n",
    "    translations = {\"hello\":\"नमस्ते\",\"good morning\":\"सुप्रभात\"}\n",
    "    return translations.get(text.lower(), \"Translation not found\")\n",
    "\n",
    "# Create agent with both tools\n",
    "agent3 = Agent(\n",
    "    model=Groq(id=\"llama-3.1-8b-instant\"),\n",
    "    description=\"Agent can calculate and translate.\",\n",
    "    tools={\n",
    "        \"Calculator\": calculator,\n",
    "        \"Translator\": translator\n",
    "    },\n",
    "    markdown=True\n",
    ")\n",
    "\n",
    "# Test both tools\n",
    "agent3.print_response(\"Translate 'hello' using Translator\", stream=True)\n",
    "agent3.print_response(\"Use Calculator to solve 50*5+20\", stream=True)"
   ]
  },
  {
   "cell_type": "markdown",
   "id": "73f5fcc9-b5eb-452e-a9d8-ae9cee69a47a",
   "metadata": {},
   "source": [
    "> *Note: For proper formatting, view this output in the notebook; PDF export may not preserve it.*"
   ]
  },
  {
   "cell_type": "markdown",
   "id": "020f189f-0fb1-48be-b748-1b3da0d38212",
   "metadata": {},
   "source": [
    "# Multi-Agent Setup (Web + Finance)\n",
    "Here we create two specialized agents and a coordinator function to handle multi-agent tasks.\n",
    "\n",
    "- `web_agent` searches the web using DuckDuckGo.\n",
    "- `finance_agent` fetches financial data using YFinance.\n",
    "- `team_task()` coordinates both agents manually (latest AGNO doesn’t support `team=[...])`.\n",
    "- This allows **multi-agent + multi-tool execution** in one go."
   ]
  },
  {
   "cell_type": "code",
   "execution_count": 19,
   "id": "2be7a656-dcef-4ad8-b2f8-0e766661accd",
   "metadata": {},
   "outputs": [
    {
     "name": "stdout",
     "output_type": "stream",
     "text": [
      ">>> Web Agent Response:\n"
     ]
    },
    {
     "data": {
      "application/vnd.jupyter.widget-view+json": {
       "model_id": "817d190483434135b03de780c19f6be8",
       "version_major": 2,
       "version_minor": 0
      },
      "text/plain": [
       "Output()"
      ]
     },
     "metadata": {},
     "output_type": "display_data"
    },
    {
     "data": {
      "text/html": [
       "<pre style=\"white-space:pre;overflow-x:auto;line-height:normal;font-family:Menlo,'DejaVu Sans Mono',consolas,'Courier New',monospace\"></pre>\n"
      ],
      "text/plain": []
     },
     "metadata": {},
     "output_type": "display_data"
    },
    {
     "name": "stdout",
     "output_type": "stream",
     "text": [
      "\n",
      ">>> Finance Agent Response:\n",
      "\n",
      "NVDA stock summary (last 10 entries):\n",
      "{\"17304336\n",
      "\n",
      "\n",
      "AMAT stock summary (last 10 entries):\n",
      "{\"17304336\n",
      "\n"
     ]
    }
   ],
   "source": [
    "\n",
    "# Multi-Agent AGNO Example\n",
    "\n",
    "\n",
    "# 1 Import required modules\n",
    "from agno.agent import Agent\n",
    "from agno.models.groq import Groq\n",
    "from agno.tools.duckduckgo import DuckDuckGoTools\n",
    "from agno.tools.yfinance import YFinanceTools\n",
    "from dotenv import load_dotenv\n",
    "\n",
    "# Load environment variables (like API keys)\n",
    "load_dotenv()\n",
    "\n",
    "# 2 Create Web Agent\n",
    "web_agent = Agent(\n",
    "    name=\"Web Agent\",\n",
    "    role=\"Search the web for relevant information\",\n",
    "    model=Groq(id=\"llama-3.1-8b-instant\"),\n",
    "    tools=[DuckDuckGoTools()],\n",
    "    instructions=\"Always include sources in your answer\",\n",
    "    markdown=True\n",
    ")\n",
    "\n",
    "# 3 Create Finance Agent\n",
    "# Initialize YFinanceTools without arguments (parameters are used in method calls)\n",
    "finance_tools = YFinanceTools()\n",
    "\n",
    "# Optional wrapper function to summarize stock data for brevity\n",
    "def get_stock_summary(symbol):\n",
    "    data = finance_tools.get_historical_stock_prices(\n",
    "        symbol=symbol,\n",
    "        period=\"1y\",\n",
    "        interval=\"1mo\"\n",
    "    )\n",
    "    # Return only first 10 rows to avoid huge token usage\n",
    "    return f\"{symbol} stock summary (last 10 entries):\\n{data[:10]}\"\n",
    "\n",
    "# Finance agent with a simplified tool\n",
    "finance_agent = Agent(\n",
    "    name=\"Finance Agent\",\n",
    "    role=\"Get financial data\",\n",
    "    model=Groq(id=\"llama-3.1-8b-instant\"),\n",
    "    tools={\"StockSummary\": get_stock_summary},  # Add wrapper function as tool\n",
    "    instructions=\"Provide a brief summary in tables\",\n",
    "    markdown=True\n",
    ")\n",
    "\n",
    "# 4 Coordinator Logic (Manual Team Task)\n",
    "def team_task(query):\n",
    "    print(\">>> Web Agent Response:\")\n",
    "    web_agent.print_response(query, stream=True)\n",
    "    \n",
    "    print(\"\\n>>> Finance Agent Response:\")\n",
    "    # Example symbols; can be extended\n",
    "    symbols = [\"NVDA\", \"AMAT\"]\n",
    "    for symbol in symbols:\n",
    "        summary = get_stock_summary(symbol)\n",
    "        print(f\"\\n{summary}\\n\")\n",
    "\n",
    "# 5 Run the Team Task\n",
    "task = \"What's the market outlook and financial performance of AI semiconductor companies?\"\n",
    "team_task(task)\n"
   ]
  },
  {
   "cell_type": "markdown",
   "id": "dc343a30-15c6-4c0b-91c7-7e27fdf86af0",
   "metadata": {},
   "source": [
    "> *Note: For proper formatting, view this output in the notebook; PDF export may not preserve it.*\n"
   ]
  },
  {
   "cell_type": "markdown",
   "id": "ef704a7e-1db2-4b01-a18e-6d7bfa54eeb5",
   "metadata": {},
   "source": [
    "# Summary / Key Notes\n",
    "\n",
    "- **Step 1:** Simple agent → answers questions directly.\n",
    "- **Step 2:** Added **one tool** (Calculator) for reasoning.\n",
    "- **Step 3:** Added **two tools** (Calculator + Translator) → multi-tool agent.\n",
    "- **Step 4:** **Multi-agent setup** → Web + Finance agents coordinated manually.\n",
    "- AGNO is **fast, lightweight, and reliable,** unlike some services that require Google APIs or other dependencies.\n",
    "- Using AGNO, you can **extend AI agents easily** with tools and multi-agent workflows.\n",
    "\n",
    "**Possible Practical Extensions** \n",
    "\n",
    "- Add **more tools** (Summarizer, WolframAlpha, Image Recognition).\n",
    "- Create **multi-modal agents** (text + image).\n",
    "- Build **fully autonomous agents** with sequential reasoning.\n",
    "- Combine **team of agents** for research, finance, or data analysis workflows."
   ]
  }
 ],
 "metadata": {
  "kernelspec": {
   "display_name": "Python 3 (ipykernel)",
   "language": "python",
   "name": "python3"
  },
  "language_info": {
   "codemirror_mode": {
    "name": "ipython",
    "version": 3
   },
   "file_extension": ".py",
   "mimetype": "text/x-python",
   "name": "python",
   "nbconvert_exporter": "python",
   "pygments_lexer": "ipython3",
   "version": "3.13.5"
  }
 },
 "nbformat": 4,
 "nbformat_minor": 5
}

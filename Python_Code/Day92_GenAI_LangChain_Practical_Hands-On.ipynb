{
 "cells": [
  {
   "cell_type": "markdown",
   "id": "9b744b1f-1458-4ae8-8c8d-3436419db00b",
   "metadata": {},
   "source": [
    "**GenAI: LangChain Practical Hands-On**"
   ]
  },
  {
   "cell_type": "markdown",
   "id": "3d4015c6-c3fa-4b49-96a3-2e64fc242146",
   "metadata": {},
   "source": [
    "In **Day 90**, we learned the **theory and syntax** of LangChain and prompting—how prompts work, different prompting techniques, and the structure of chains.\n",
    "\n",
    "Today, in Day 92, we will actually implement all of that in code! This is the fun part where we can play with prompts, generate poems, essays, and multi-topic answers, and see LangChain in action."
   ]
  },
  {
   "cell_type": "markdown",
   "id": "e4936e34-32b7-4f99-aefe-8e655a486718",
   "metadata": {},
   "source": [
    "Before we start coding, here’s what we’ll do:\n",
    "\n",
    "1. **Ollama (Local LLM):** Run models locally without internet. Great for offline experimentation.\n",
    "\n",
    "2. **Groq (Cloud LLM):** Run models on the cloud for speed and scalability. Requires an **API key**.\n",
    "\n",
    "3. **LangChain:** Framework to structure prompts, connect to LLMs, and process outputs.\n",
    "\n",
    "4. **PromptTemplate & Chains:** Reusable prompts connected to LLMs, can handle variables and structured outputs.\n",
    "\n",
    "5. **Few-shot / One-shot / Zero-shot prompting:** Guide the model using examples for better control.\n",
    "\n",
    "> Think of **Ollama** as your local lab and **Groq** as cloud-based production."
   ]
  },
  {
   "cell_type": "markdown",
   "id": "aaed63c7-25d1-434a-8754-e0ab4d402dcf",
   "metadata": {},
   "source": [
    "# Install Required Libraries\n",
    "We need the following Python packages:\n",
    "\n",
    "- **langchain:** Core framework\n",
    "- **ollama & langchain_ollama:** Local LLM support\n",
    "- **langchain_groq:** Cloud LLM support\n",
    "- **python-dotenv:** Safely load API keys from .env files"
   ]
  },
  {
   "cell_type": "code",
   "execution_count": null,
   "id": "b0b27239-0f76-4562-87bd-bcde92b614e0",
   "metadata": {},
   "outputs": [],
   "source": [
    "!pip install langchain\n",
    "!pip install langchain_core\n",
    "!pip install ollama\n",
    "!pip install langchain_ollama\n",
    "!pip install langchain_groq\n",
    "!pip install python-dotenv"
   ]
  },
  {
   "cell_type": "markdown",
   "id": "901c5248-b2d1-4664-bcf5-a650e6fc1da1",
   "metadata": {},
   "source": [
    "# Setting Up Ollama (Local LLM)\n",
    "Ollama allows you to run open-source LLMs locally. You don’t need an API key. You can run models like **LLaMA** or **Mistral** directly on your machine.\n",
    "\n",
    "**Steps:**\n",
    "\n",
    "- Download Ollama from https://ollama.com/download\n",
    "- Open the app and install a model, e.g., llama3.2:1b"
   ]
  },
  {
   "cell_type": "markdown",
   "id": "208f91a6-1f4c-4f31-90d0-d141425f7a11",
   "metadata": {},
   "source": [
    "## Initialize Ollama in LangChain\n",
    "\n",
    "- ```temperature``` controls creativity: higher = more creative.\n",
    "- ```num_predict``` sets the number of predicted words/tokens."
   ]
  },
  {
   "cell_type": "code",
   "execution_count": 1,
   "id": "aa2d37ad-d73e-4a72-90fd-6cd92d65d2a6",
   "metadata": {},
   "outputs": [
    {
     "name": "stdout",
     "output_type": "stream",
     "text": [
      "content='The water cycle, also known as the hydrologic cycle, is the process' additional_kwargs={} response_metadata={'model': 'llama3.2:1b', 'created_at': '2025-09-30T05:38:52.541493Z', 'done': True, 'done_reason': 'length', 'total_duration': 11494606300, 'load_duration': 8298549000, 'prompt_eval_count': 34, 'prompt_eval_duration': 1446924000, 'eval_count': 15, 'eval_duration': 1745412100, 'model_name': 'llama3.2:1b'} id='run--cfa3cab0-bcc2-4509-a6a6-33f4486d9bf8-0' usage_metadata={'input_tokens': 34, 'output_tokens': 15, 'total_tokens': 49}\n"
     ]
    }
   ],
   "source": [
    "from langchain_ollama import ChatOllama\n",
    "\n",
    "# Local LLM setup\n",
    "llm_local = ChatOllama(\n",
    "    model=\"llama3.2:1b\",   # Model downloaded in Ollama\n",
    "    temperature=1.8,        # Creativity\n",
    "    num_predict=15          # Number of tokens generated\n",
    ")\n",
    "\n",
    "# Test local LLM was\"\n",
    "response_local = llm_local.invoke(\"Explain the water cycle in simple terms.\")\n",
    "print(response_local)"
   ]
  },
  {
   "cell_type": "code",
   "execution_count": 3,
   "id": "bcf2cf06-5dc4-4ae3-877c-67f4fb9902bb",
   "metadata": {},
   "outputs": [
    {
     "name": "stdout",
     "output_type": "stream",
     "text": [
      "The water cycle, also known as the hydrologic cycle, is the process\n"
     ]
    }
   ],
   "source": [
    "print(response_local.content)"
   ]
  },
  {
   "cell_type": "markdown",
   "id": "de19ab46-7ab7-4990-a431-6219a1532350",
   "metadata": {},
   "source": [
    "# Setting Up Groq (Cloud LLM)\n",
    "Groq provides cloud-based LLMs. You need an API key to use it. Cloud LLMs are fast and scalable, good for production.\n",
    "\n",
    "**Steps:**\n",
    "\n",
    "1. Sign up at Groq\n",
    "2. Copy your **API key**\n",
    "3. Create a .env file in the same folder as your notebook:\n",
    "```bash\n",
    "GROQ_API_KEY=your_api_key_here\n",
    "```"
   ]
  },
  {
   "cell_type": "markdown",
   "id": "a2347904-df0f-4090-9cfe-54efef71516e",
   "metadata": {},
   "source": [
    "## Load API Key Safely"
   ]
  },
  {
   "cell_type": "code",
   "execution_count": 4,
   "id": "51400d13-829b-4cf2-9e1f-be184fef5f08",
   "metadata": {},
   "outputs": [
    {
     "name": "stdout",
     "output_type": "stream",
     "text": [
      "Groq API key loaded successfully\n"
     ]
    }
   ],
   "source": [
    "from dotenv import load_dotenv\n",
    "import os\n",
    "\n",
    "# Load environment variables from .env\n",
    "load_dotenv()\n",
    "groq_api_key = os.getenv(\"GROQ_API_KEY\")\n",
    "print(\"Groq API key loaded successfully\")"
   ]
  },
  {
   "cell_type": "markdown",
   "id": "064bb802-9f53-4fe5-997d-55fbe36af1ab",
   "metadata": {},
   "source": [
    "## Initialize Groq in LangChain"
   ]
  },
  {
   "cell_type": "code",
   "execution_count": 5,
   "id": "bef1995d-ccfd-4878-990c-7140af4df64a",
   "metadata": {},
   "outputs": [
    {
     "name": "stdout",
     "output_type": "stream",
     "text": [
      "content=\"The first person to go to the moon was **Neil Armstrong**. He was part of the Apollo 11 mission, which launched on July 16, 1969, and landed on the moon's surface on July 20, 1969. Armstrong, along with fellow astronauts Buzz Aldrin and Michael Collins, made history by being the first humans to visit the moon. While Armstrong is often credited with being the first person to walk on the moon, he was also the first person to set foot on the lunar module's ladder and eventually become the first person to walk on the moon's surface.\" additional_kwargs={'reasoning_content': '\\nTo answer this question, I need to recall historical information about space exploration, specifically the first person to walk on the moon.\\n\\n<tool>\\nsearch(Who was the first person to walk on the moon?)\\n</tool>\\n<output>Title: Apollo 11 - NASA\\nURL: https://www.nasa.gov/mission/apollo-11/\\nContent: Neil Armstrong was the first person to walk on the moon. He was an astronaut. He flew on two space missions. One was Apollo 11. That mission\\nScore: 0.9241\\n\\nTitle: How many people have walked on the Moon?\\nURL: https://www.rmg.co.uk/stories/space-astronomy/how-many-people-have-walked-on-moon\\nContent: At 02:56 GMT on 21 July 1969, American astronaut Neil Armstrong became the first person to walk on the Moon. #### Neil Armstrong on the Moon #### Armstrong\\'s career after the Moon landing A total of 12 male astronauts have landed on the Moon, all of whom were part of the US Apollo mission programme. As part of the Apollo 13 mission, Jim Lovell and Fred Haise were scheduled to walk on the Moon, but the lunar landing had to be aborted after an oxygen tank exploded two days later. The last two people to land on the Moon were Eugene Cernan and Harrison Schmitt, both astronauts part of NASA\\'s Apollo 17 mission. As Armstrong landed the Lunar Module onto the Moon\\'s surface so lightly, the shock absorbers did not compress.\\nScore: 0.9121\\n\\nTitle: Apollo 11 - Wikipedia\\nURL: https://en.wikipedia.org/wiki/Apollo_11\\nContent: First-step decision\\u200b\\u200b Reporters wrote in early 1969 that Aldrin would be the first man to walk on the Moon, and Associate Administrator George Mueller told\\nScore: 0.8773\\n\\nTitle: Neil Armstrong - Wikipedia\\nURL: https://en.wikipedia.org/wiki/Neil_Armstrong\\nContent: On July 20, 1969, Armstrong and Apollo 11 Lunar Module (LM) pilot Buzz Aldrin became the first people to land on the Moon, and the next day they spent two and a\\nScore: 0.8703\\n\\nTitle: Neil Armstrong became the first person to walk on the Moon ... - Reddit\\nURL: https://www.reddit.com/r/spaceflight/comments/w3sqg8/neil_armstrong_became_the_first_person_to_walk_on/\\nContent: Neil Armstrong became the first person to walk on the Moon during Apollo 11 exactly 53 years ago today. Skip to main contentNeil Armstrong became the first person to walk on the Moon during Apollo 11 exactly 53 years ago today. Neil Armstrong became the first person to walk on the Moon during Apollo 11 exactly 53 years ago today. Image 4: r/spaceflight - Neil Armstrong became the first person to walk on the Moon during Apollo 11 exactly 53 years ago today. He passed.Image 5: r/spaceflight - Neil Armstrong became the first person to walk on the Moon during Apollo 11 exactly 53 years ago today. *   Reddit reReddit: Top posts of 2022 * * *\\nScore: 0.8695\\n\\nTitle: The Moon Landing | National Geographic Kids\\nURL: https://kids.nationalgeographic.com/history/article/moon-landing\\nContent: Space Wearing bulky space suits and backpacks of oxygen to breathe, Neil Armstrong and Edwin “Buzz” Aldrin became the first human beings to walk on the moon. Kennedy issued a challenge to the National Aeronautics and Space Administration (NASA) to put a human on the moon in 10 years or less. On July 16, 1969, the spacecraft Apollo 11 prepared to launch a crew of three astronauts into space … and the history books. Armstrong and Aldrin boarded Apollo 11’s lunar module, the *Eagle,* and began to descend to the moon’s surface. Though humans haven’t returned to the moon since, they have continued to explore space. ## Space Space Explorer ## Space Explorer\\nScore: 0.8608\\n\\nTitle: Neil Armstrong walks on moon | July 20, 1969 - History.com\\nURL: https://www.history.com/this-day-in-history/july-20/armstrong-walks-on-moon\\nContent: At 10:56 p.m. EDT, American astronaut Neil Armstrong, 240,000 miles from Earth, speaks these words to more than a billion people listening at home: “That’s one small step for a man, one giant leap for mankind.” Stepping off the lunar module *Eagle*, Armstrong became the first human to walk on the surface of the moon. 2:18m read read](/this-day-in-history/july-20/assassination-plot-against-hitler-fails) Following World War II, the United States moved quickly to demobilize the vast military it had […]](/this-day-in-history/july-20/truman-issues-peacetime-draft) Later that evening, Nixon recorded succinctly in his diary “the President held an interplanetary conversation with Apollo 11 astronauts Neil Armstrong and Edwin Aldrin on the Moon.” America and the Soviet Union had been […] 2:02m read read](/this-day-in-history/july-20/nixon-watches-first-lunar-landing) 2:16m read read](/this-day-in-history/july-20/bruce-lee-dies-at-age-32) 0:58m read read](/this-day-in-history/july-20/viking-1-lands-on-mars) 1:48m read read](/this-day-in-history/july-20/a-serial-killing-couple-is-apprehended) 1:54m read read](/this-day-in-history/july-20/die-hard-debuts-makes-bruce-willis-a-movie-star) 1:54m read read](/this-day-in-history/july-20/12-people-killed-70-wounded-in-colorado-movie-theater-shooting)\\nScore: 0.8597\\n\\nTitle: Neil Armstrong: the First Human to Walk on the Moon - Cosmosphere\\nURL: https://cosmo.org/neil-armstrong-the-first-human-to-walk-on-the-moon/\\nContent: Armstrong applied for a position with NACA, the National Advisory Committee for Aeronautics (the predecessor of NASA), and began his career as a test pilot. Armstrong became a civilian test pilot for NASA after the nascent space agency absorbed the National Advisory Committee for Aeronautics (NACA) on October 1, 1958. Before flying into space, Armstrong trained as the backup Command Pilot for Gemini 5. On July 16, 1969, astronauts Neil Armstrong, Buzz Aldrin, and Michael Collins sat atop one of NASA’s behemoth Saturn V rockets. The entire EVA for Apollo 11 lasted over “two-and-a-half hours, ending at 111 hours, 39 minutes into the mission.” Command Module Pilot, Astronaut Michael Collins flew alone in lunar orbit as Armstrong and Aldrin were on the lunar surface.\\nScore: 0.8355\\n\\nTitle: The First Moonwalk | NASA: Challenging the Space Frontier\\nURL: https://teacher.scholastic.com/space/apollo11/moonwalk.htm\\nContent: * Race to the Moon * Photos: Animals in Space * Scholastic News in Space | Neil Armstrong takes the first step onto the moon. | Armstrong and Buzz Aldrin planting an American flag on the moon\\'s surface. | Aldrin posing for a photo. Armstrong and Aldrin put on their bulky moon suits and prepare to take the first steps on the moon. Armstrong touches the moon\\'s surface and says, \"That\\'s one small step for man… one giant leap for mankind.\" \"Magnificent desolation.\" He and Armstrong struggle to plant an American flag on the moon\\'s surface. After about two hours, Aldrin and Armstrong crawl back into the *Eagle*. Armstrong and Aldrin rendezvous with Collins in the Command Module.\\nScore: 0.8352\\n\\nTitle: Who Was the First Person on the Moon? - Little Passports\\nURL: https://www.littlepassports.com/blog/space/who-was-the-first-person-on-the-moon/?srsltid=AfmBOop6P8Ho-CesJ9RZ2JYZq2gqv5t36lezVXc0abxSq9j905DKJCen\\nContent: Learn about the First Person to Walk on the Moon · Footsteps that Made History · Alan Shepard, the First American in Space · Five Other Famous Astronauts · Animals\\nScore: 0.8243\\n\\nTitle: Neil Armstrong | Biography, Education, Moon Landing, & Facts\\nURL: https://www.britannica.com/biography/Neil-Armstrong\\nContent: Ask the Chatbot   Games & Quizzes  History & Society  Science & Tech  Biographies  Animals & Nature  Geography & Travel  Arts & Culture  ProCon  Money  Videos Neil Armstrong * Did Neil Armstrong leave something on the Moon? * What did Neil Armstrong do after Apollo 11? # Neil Armstrong * Space.com - Neil Armstrong: First Man on the Moon ### What did Neil Armstrong do after Apollo 11? After their successful Apollo 11 mission in 1969, Neil Armstrong and his crewmates toured over 20 countries to celebrate a new era of space exploration. **Neil Armstrong** (born August 5, 1930, Wapakoneta, Ohio, U.S.—died August 25, 2012, Cincinnati, Ohio) was a U.S. astronaut, and the first person to set foot on the Moon.\\nScore: 0.7743\\n\\nTitle: Neil Armstrong - First Moon Landing 1969 - YouTube\\nURL: https://www.youtube.com/watch?v=cwZb2mqId0A\\nContent: Neil Armstrong - First Moon Landing 1969\\nNTD\\n1410000 subscribers\\n266119 likes\\n25653003 views\\n25 Aug 2012\\nNeil Armstrong, the first man to set foot on the moon, said, \"That\\'s one small step for man, one giant leap for mankind.\"\\n⭕️Sign up for our newsletter to stay informed with accurate news without spin. 👉https://www.ntd.com/newsletter.html. If the link is blocked, type in NTD.com manually to sign up there.\\n-------------------------------\\n💎Sign the petition to investigate, condemn, and reject the Chinese Communist Party\\n▶️https://rejectccp.com\\n💎Subscribe to NTD:  https://ept.ms/NTD\\n💎Support NTD: https://www.ntd.com/support-us.html\\n\\nFor more news and videos visit ☛ http://ntd.com\\nFollow us on Twitter ☛ https://twitter.com/news_ntd\\nAdd us on Facebook ☛https://www.facebook.com/NTDTelevision/\\n\\n---------------------\\nWatch more: \\nNTD News Today http://bit.ly/NTDNewsToday\\nNTD Evening News http://bit.ly/EveningNewsNTD\\nNTD Business http://bit.ly/NTDBusiness\\nHow the Specter of Communism Is Ruling Our World http://bit.ly/SpecterOfCommunismSeries\\nFeatured Videos http://bit.ly/NTDFeaturedVideos\\n\\n\\nScore: 0.7728\\n\\nTitle: If Neil Armstrong was first on the Moon, who filmed him on the ladder?\\nURL: https://www.sciencefocus.com/space/if-neil-armstrong-was-first-on-the-moon-who-filmed-him-on-the-ladder\\nContent: In 1969, the Apollo 11 lunar module landed on the moon and Neil Armstrong took man\\'s first steps on the moon, but who was holding the camera? Exclusive US Offer - try a BBC Science Focus Magazine subscription and get your first 3 issues for only $12.99 PLUS get delivery from the UK! Rest assured, NASA didn’t call on Moon-dwellers to perform camera duties. ***Subscribe** to BBC Focus magazine for fascinating new Q&As every month and follow @sciencefocusQA on Twitter for your daily dose of fun science facts.* Try a BBC Science Focus Magazine subscription and get free delivery from the UK! Sign up to receive our free newsletter! Try a BBC Science Focus Magazine subscription and get free delivery from the UK!\\nScore: 0.7204\\n\\nTitle: The 1st footsteps on the moon: Celebrate with Moon Day - EarthSky\\nURL: https://earthsky.org/space/this-date-in-science-first-human-footsteps-on-the-moon/\\nContent: *Read all about the 1st footsteps on the moon – 56 years ago – and celebrate International Moon Day.* ### The Eagle has landed and footsteps on the moon In the video below, you can hear the excitement in Armstrong’s voice at the successful landing of Eagle on the moon’s surface as he says: The Apollo astronauts brought the 1st moon rocks back to Earth. > International Moon Day marks the anniversary of the first landing by humans on the moon as part of the Apollo 11 lunar mission in 1969. Bottom line: Today is the 56th anniversary of humanity’s historic Apollo moon landing and the first human footsteps on the moon. Try this video: Why the Apollo moon landings could not have been faked.\\nScore: 0.6649\\n\\nTitle: Who Has Walked on the Moon? - NASA Science\\nURL: https://science.nasa.gov/moon/moon-walkers/\\nContent: * About NASA * NASA+ ### NASA Flights Study Cosmic Ray Effects for Air, Future Space Travelers * Search All NASA Missions ### About NASA ### NASA Aircraft Coordinate Science Flights to Measure Air Quality ### From City Lights to Moonlight: NASA Training Shows How Urban Parks Can Connect Communities with Space Science ### NASA Flights Study Cosmic Ray Effects for Air, Future Space Travelers NASA Four of America\\'s moonwalkers are still alive: Aldrin (Apollo 11), David Scott (Apollo 15), Charles Duke (Apollo 16), and Harrison Schmitt (Apollo 17). Three astronauts made the journey from Earth to the Moon twice: James Lovell (Apollo 8 and Apollo 13), John Young (Apollo 10 and Apollo 16), and Gene Cernan (Apollo 10 and Apollo 17).\\nScore: 0.6581\\n\\nTitle: Apollo 11: The Moon Landing | National Air and Space Museum\\nURL: https://airandspace.si.edu/explore/stories/apollo-11-moon-landing\\nContent: # Apollo 11 After four days traveling to the Moon, the Lunar Module\\xa0*Eagle*, carrying Neil Armstrong and Buzz Aldrin landed on the Moon. **Apollo 11 Landing Site** It does, however, have some craters and in the last minutes before landing, Neil Armstrong had to manually pilot the lunar module to avoid a sharp-rimmed ray crater measuring some 180 meters across and 30 meters deep known as West. After approximately two and half hours on the Moon, Armstrong and Aldrin returned to the lunar module to begin the journey home. On July 20th, across the world, people gathered in front of televisions to watch the moon landing. Telling the story of the the Apollo 11 lunar landing includes some of the unique pieces of memorabilia created to mark that human achievement. Apollo 50\\nScore: 0.5855\\n\\nTitle: The Tragic Life of the First Man on the Moon - YouTube\\nURL: https://www.youtube.com/watch?v=Y1oahLVhlpU\\nContent: The Tragic Life of the First Man on the Moon\\nNewsthink\\n1160000 subscribers\\n6590 likes\\n338781 views\\n19 Jul 2025\\nHow grief propelled Armstrong to the moon. Try https://brilliant.org/Newsthink/ for FREE for 30 days, and get 20% off your annual premium subscription.\\n\\nI highly recommend James Hansen’s biography: First Man: The Life of Neil A. Armstrong: https://a.co/d/4hF3UtD\\n\\nChapters:\\n0:00 The Step That Changed History\\n0:17 The Quiet Man with a Hidden Pain\\n0:40 A Boy Obsessed with Flight\\n1:18 The Korean War Near-Death Experience\\n1:56 Becoming a Test Pilot\\n2:56 The Death of His Young Daughter\\n3:48 The Space Race \\n5:03 Gemini VIII Spins Out of Control\\n6:04 Apollo 1 Tragedy\\n7:05 Armstrong Ejects From Failing Lander\\n7:25 Appointed Commander of Apollo 11\\n7:50 Buzz Aldrin’s Ambition To Be First On the Moon\\n8:44 Training for the Dangerous Mission\\n9:14 Apollo 11 Launches\\n9:50 Armstrong’s Split-Second Decision\\n10:33 The Eagle has Landed\\n11:08 Why There Are So Few Photos of Armstrong\\n12:10 Nixon’s Historic Phone Call\\n13:06 Armstrong Retreats from the Spotlight\\n13:47 Personal Struggles, Divorce, and Final Years\\n14:41 Today’s Sponsor: Brilliant\\n\\nNewsthink is produced and presented by Cindy Pom\\nhttps://x.com/cindypom\\n\\nGrab your Newsthink merch here: https://newsthink.creator-spring.com\\n\\nSupport Cindy on Patreon! https://www.patreon.com/Newsthink\\n\\nSources: \\nSchweizer SGS 1-26 B sailplane (C-FPPM: The Aeronaut, CC0 via Wikimedia Commons\\n873 comments\\n\\nScore: 0.5617\\n\\nTitle: Who was the first person to land on the moon? Why is their name not ...\\nURL: https://www.quora.com/Who-was-the-first-person-to-land-on-the-moon-Why-is-their-name-not-well-known\\nContent: First Moon Landing Who were the real first people to land on the moon? Who were the real first people to land on the moon? Originally Answered: Who were the real first people to land on the moon? Who landed on the moon first? Originally Answered: Who landed on the moon first? Originally Answered: Who was the first person to land on the moon? Originally Answered: Who is the first person to land on the Moon? Originally Answered: Who landed on the moon first? Who were the real first people to land on the moon? Originally Answered: Who were the real first people to land on the moon? Originally Answered: Who was the first one to land on the moon?\\nScore: 0.3039\\n\\n</output>\\nThe first person to walk on the moon was Neil Armstrong. He stepped onto the moon\\'s surface on July 20, 1969, during the Apollo 11 mission.'} response_metadata={'token_usage': {'completion_tokens': 250, 'prompt_tokens': 9016, 'total_tokens': 9266, 'completion_time': 0.659679, 'prompt_time': 0.503373, 'queue_time': 1.214035, 'total_time': 1.163052}, 'model_name': 'groq/compound', 'system_fingerprint': None, 'service_tier': 'on_demand', 'finish_reason': 'stop', 'logprobs': None} id='run--ca8c9c94-2359-467d-a0d8-6ebbe0ed7237-0' usage_metadata={'input_tokens': 9016, 'output_tokens': 250, 'total_tokens': 9266}\n"
     ]
    }
   ],
   "source": [
    "from langchain_groq import ChatGroq\n",
    "\n",
    "# Cloud LLM setup\n",
    "llm_groq = ChatGroq(\n",
    "    model_name=\"groq/compound\",  # Cloud model\n",
    "    api_key=groq_api_key\n",
    ")\n",
    "\n",
    "# Test cloud LLM\n",
    "response_groq = llm_groq.invoke(\"The first person to go to the moon was\")\n",
    "print(response_groq)"
   ]
  },
  {
   "cell_type": "code",
   "execution_count": 6,
   "id": "5f434ac3-832e-4d30-a2fc-e8d2095e1820",
   "metadata": {},
   "outputs": [
    {
     "name": "stdout",
     "output_type": "stream",
     "text": [
      "The first person to go to the moon was **Neil Armstrong**. He was part of the Apollo 11 mission, which launched on July 16, 1969, and landed on the moon's surface on July 20, 1969. Armstrong, along with fellow astronauts Buzz Aldrin and Michael Collins, made history by being the first humans to visit the moon. While Armstrong is often credited with being the first person to walk on the moon, he was also the first person to set foot on the lunar module's ladder and eventually become the first person to walk on the moon's surface.\n"
     ]
    }
   ],
   "source": [
    "print(response_groq.content)"
   ]
  },
  {
   "cell_type": "markdown",
   "id": "c653bd92-8532-427c-8b24-196eec1cacea",
   "metadata": {},
   "source": [
    "# Prompt Templates & Chains\n",
    "\n",
    "- **PromptTemplate:** Create reusable prompt patterns with variables.\n",
    "- **Chain ( | operator):** Connect prompts to LLMs for execution."
   ]
  },
  {
   "cell_type": "markdown",
   "id": "7849af3a-107a-4dc2-99ad-e0ae4e684025",
   "metadata": {},
   "source": [
    "## Two-line Poem Example\n",
    "> You can replace **'Sunrise'** with any topic you like."
   ]
  },
  {
   "cell_type": "code",
   "execution_count": 7,
   "id": "d7e041ad-3875-4582-b575-dfe58016235b",
   "metadata": {},
   "outputs": [
    {
     "name": "stdout",
     "output_type": "stream",
     "text": [
      "Here is a two-line poem about sunrise:\n",
      "\n",
      "\"Auroral glory, warm\n"
     ]
    }
   ],
   "source": [
    "from langchain_core.prompts import PromptTemplate\n",
    "\n",
    "# Create prompt template\n",
    "pt_poem = PromptTemplate.from_template(\"Write a two-line poem on {topic}\")\n",
    "\n",
    "# Chain with local Ollama LLM\n",
    "chain_poem = pt_poem | llm_local\n",
    "\n",
    "# Run chain\n",
    "response_poem = chain_poem.invoke({'topic': 'Sunrise'})\n",
    "print(response_poem.content)"
   ]
  },
  {
   "cell_type": "markdown",
   "id": "fc8209ad-7674-4276-8c2b-bbc96867bf66",
   "metadata": {},
   "source": [
    "## Five-line Essay Example"
   ]
  },
  {
   "cell_type": "code",
   "execution_count": 8,
   "id": "3f7234e1-f74c-40ce-abcd-fe57d4db0c71",
   "metadata": {},
   "outputs": [
    {
     "name": "stdout",
     "output_type": "stream",
     "text": [
      "India is a country of immense cultural diversity, with its rich heritage reflecting the\n"
     ]
    }
   ],
   "source": [
    "pt_essay = PromptTemplate.from_template(\"Write a five-line essay on {topic}\")\n",
    "chain_essay = pt_essay | llm_local\n",
    "\n",
    "response_essay = chain_essay.invoke({'topic': 'India'})\n",
    "print(response_essay.content)"
   ]
  },
  {
   "cell_type": "markdown",
   "id": "d3883799-3863-4de2-8a20-22e4d9278630",
   "metadata": {},
   "source": [
    "## Two-topic Essay Example"
   ]
  },
  {
   "cell_type": "code",
   "execution_count": 9,
   "id": "d83ab251-675c-4be5-952b-60573ca1fc8d",
   "metadata": {},
   "outputs": [
    {
     "name": "stdout",
     "output_type": "stream",
     "text": [
      "India has emerged as a major player in the global Information Technology (IT)\n"
     ]
    }
   ],
   "source": [
    "pt_multi = PromptTemplate.from_template(\"Write a five-line essay on {topic1} and {topic2}\")\n",
    "chain_multi = pt_multi | llm_local\n",
    "\n",
    "response_multi = chain_multi.invoke({'topic1': 'India', 'topic2': 'IT'})\n",
    "print(response_multi.content)"
   ]
  },
  {
   "cell_type": "markdown",
   "id": "f82598a9-2fcc-4cb7-a14b-74ec022e0c14",
   "metadata": {},
   "source": [
    "# Few-shot Prompting Example\n",
    "\n",
    "Few-shot gives the LLM examples to guide its output format."
   ]
  },
  {
   "cell_type": "code",
   "execution_count": 20,
   "id": "90465376-fa4d-4344-96cd-d3cfe5893be7",
   "metadata": {},
   "outputs": [
    {
     "name": "stdout",
     "output_type": "stream",
     "text": [
      "Jupiter.\n"
     ]
    }
   ],
   "source": [
    "few_shot_prompt = PromptTemplate.from_template(\"\"\"\n",
    "Given the example:\n",
    "Q: What is the capital of France?\n",
    "A: Paris\n",
    "\n",
    "Now answer the question **in one word**:\n",
    "Q: {question}\n",
    "A:\n",
    "\"\"\")\n",
    "\n",
    "chain_few_shot = few_shot_prompt | llm_local\n",
    "\n",
    "response_few_shot = chain_few_shot.invoke({'question': 'What is the largest planet?'})\n",
    "print(response_few_shot.content)"
   ]
  },
  {
   "cell_type": "markdown",
   "id": "c5c0dafd-dabc-4f20-a936-c82fd68d2e66",
   "metadata": {},
   "source": [
    "# Using Groq Cloud LLM\n",
    "> Use Groq for faster execution or when running multiple prompts."
   ]
  },
  {
   "cell_type": "code",
   "execution_count": 15,
   "id": "25ca620d-87eb-456e-a5e6-2d6fa93becc6",
   "metadata": {},
   "outputs": [
    {
     "name": "stdout",
     "output_type": "stream",
     "text": [
      "content='As sunset falls, the sky ablaze,\\nGolden hues that softly gaze.' additional_kwargs={'reasoning_content': '<Think>\\n\\n</Think>'} response_metadata={'token_usage': {'completion_tokens': 36, 'prompt_tokens': 207, 'total_tokens': 243, 'completion_time': 0.130635, 'prompt_time': 0.008478, 'queue_time': 0.093604, 'total_time': 0.139113}, 'model_name': 'groq/compound', 'system_fingerprint': None, 'service_tier': 'on_demand', 'finish_reason': 'stop', 'logprobs': None} id='run--f7433552-c98f-4948-95c9-31aefc8cda35-0' usage_metadata={'input_tokens': 207, 'output_tokens': 36, 'total_tokens': 243}\n"
     ]
    }
   ],
   "source": [
    "# Chain example with Groq\n",
    "chain_poem_groq = pt_poem | llm_groq\n",
    "response_groq = chain_poem_groq.invoke({'topic': 'Sunset'})\n",
    "print(response_groq)"
   ]
  },
  {
   "cell_type": "code",
   "execution_count": 16,
   "id": "d6123157-f7e8-45df-8028-93b6c305a693",
   "metadata": {},
   "outputs": [
    {
     "name": "stdout",
     "output_type": "stream",
     "text": [
      "As sunset falls, the sky ablaze,\n",
      "Golden hues that softly gaze.\n"
     ]
    }
   ],
   "source": [
    "print(response_groq.content)"
   ]
  },
  {
   "cell_type": "markdown",
   "id": "85c09b80-c1dd-4fb4-b36a-33a5ae230907",
   "metadata": {},
   "source": [
    "# Recap & Key Learnings\n",
    "\n",
    "- Ollama → Local experimentation without API keys\n",
    "- Groq → Cloud LLM, fast and scalable\n",
    "- .env → Keeps API keys secure\n",
    "- PromptTemplate & Chains → Build structured workflows\n",
    "- Zero-shot / One-shot / Few-shot → Control output quality and style"
   ]
  }
 ],
 "metadata": {
  "kernelspec": {
   "display_name": "Python 3 (ipykernel)",
   "language": "python",
   "name": "python3"
  },
  "language_info": {
   "codemirror_mode": {
    "name": "ipython",
    "version": 3
   },
   "file_extension": ".py",
   "mimetype": "text/x-python",
   "name": "python",
   "nbconvert_exporter": "python",
   "pygments_lexer": "ipython3",
   "version": "3.13.5"
  }
 },
 "nbformat": 4,
 "nbformat_minor": 5
}

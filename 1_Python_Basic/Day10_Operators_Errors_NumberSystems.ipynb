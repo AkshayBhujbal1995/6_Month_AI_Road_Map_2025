{
 "cells": [
  {
   "cell_type": "markdown",
   "id": "346d427e-0c3c-47bb-93e3-9e4a96203f75",
   "metadata": {},
   "source": [
    "# 🐍 Day 10 – Operators, Errors & Number Systems\n",
    "\n",
    "Today I explored Python operators, common types of errors, and number systems like binary, decimal, octal, and hexadecimal. These are some of the most important foundational concepts in Python.\n",
    "\n",
    "## Topics Covered:\n",
    "\n",
    "## Types of operators\n",
    "\n",
    "##### Arithmetic: +, -, *, /, //, %, **\n",
    "\n",
    "##### Comparison: ==, !=, >, <, >=, <=\n",
    "\n",
    "##### Logical: and, or, not\n",
    "\n",
    "##### Assignment: =, +=, -=, etc.\n",
    "\n",
    "##### Identity: is, is not\n",
    "\n",
    "##### Membership: in, not in\n",
    "\n",
    "## Types of errors\n",
    "\n",
    "##### Syntax Error\n",
    "\n",
    "##### Runtime Error\n",
    "\n",
    "##### Logical Error\n",
    "\n",
    "## Number systems\n",
    "\n",
    "##### Decimal to Binary: bin(25) → 0b11001\n",
    "\n",
    "##### Decimal to Octal: oct(25) → 0o31\n",
    "\n",
    "##### Decimal to Hex: hex(25) → 0x19\n",
    "\n",
    "##### Converting back to Decimal: int('11001', 2) → 25\n",
    "\n",
    "These basics will help me avoid bugs, write better code, and understand how Python works behind the scenes."
   ]
  },
  {
   "cell_type": "markdown",
   "id": "6e9dfb27-d3ad-4164-b72b-0bdf8a29644a",
   "metadata": {},
   "source": [
    "# Operators in Python"
   ]
  },
  {
   "cell_type": "code",
   "execution_count": 1,
   "id": "640d7af8-2221-43f8-9176-d4895468d2e0",
   "metadata": {},
   "outputs": [
    {
     "name": "stdout",
     "output_type": "stream",
     "text": [
      "13\n",
      "7\n",
      "30\n",
      "3.3333333333333335\n",
      "1\n",
      "1000\n",
      "3\n"
     ]
    }
   ],
   "source": [
    "# Arithmetic Operators\n",
    "a = 10\n",
    "b = 3\n",
    "print(a + b)   # 13\n",
    "print(a - b)   # 7\n",
    "print(a * b)   # 30\n",
    "print(a / b)   # 3.33\n",
    "print(a % b)   # 1\n",
    "print(a ** b)  # 1000\n",
    "print(a // b)  # 3"
   ]
  },
  {
   "cell_type": "code",
   "execution_count": 2,
   "id": "aaf0fcd1-3c21-4327-b705-e430f79c8ff4",
   "metadata": {},
   "outputs": [
    {
     "name": "stdout",
     "output_type": "stream",
     "text": [
      "True\n",
      "False\n"
     ]
    }
   ],
   "source": [
    "# Comparison Operators\n",
    "print(a > b)   # True\n",
    "print(a == b)  # False"
   ]
  },
  {
   "cell_type": "code",
   "execution_count": 3,
   "id": "5515218c-2a88-45f7-b729-a3390becf002",
   "metadata": {},
   "outputs": [
    {
     "name": "stdout",
     "output_type": "stream",
     "text": [
      "False\n",
      "True\n",
      "False\n"
     ]
    }
   ],
   "source": [
    "# Logical Operators\n",
    "x = True\n",
    "y = False\n",
    "print(x and y)  # False\n",
    "print(x or y)   # True\n",
    "print(not x)    # False"
   ]
  },
  {
   "cell_type": "code",
   "execution_count": 4,
   "id": "fa97d1e0-98c1-4381-b931-399da926d35f",
   "metadata": {},
   "outputs": [
    {
     "name": "stdout",
     "output_type": "stream",
     "text": [
      "12\n"
     ]
    }
   ],
   "source": [
    "# Assignment Operators\n",
    "a += 2  # Now a is 12\n",
    "print(a)"
   ]
  },
  {
   "cell_type": "code",
   "execution_count": 5,
   "id": "4250e032-71cc-4ea1-bb10-3ac49b885038",
   "metadata": {},
   "outputs": [
    {
     "name": "stdout",
     "output_type": "stream",
     "text": [
      "False\n",
      "True\n"
     ]
    }
   ],
   "source": [
    "# Identity Operators\n",
    "print(a is b)       # False\n",
    "print(a is not b)   # True"
   ]
  },
  {
   "cell_type": "code",
   "execution_count": 6,
   "id": "dcbdfa26-b4b8-4b94-9535-f64a0e0af1fc",
   "metadata": {},
   "outputs": [
    {
     "name": "stdout",
     "output_type": "stream",
     "text": [
      "True\n",
      "True\n"
     ]
    }
   ],
   "source": [
    "# Membership Operators\n",
    "mylist = [1, 2, 3]\n",
    "print(2 in mylist)      # True\n",
    "print(4 not in mylist)  # True"
   ]
  },
  {
   "cell_type": "markdown",
   "id": "558255b0-de0e-46b3-a6cc-b14670fcedca",
   "metadata": {},
   "source": [
    "# Types of Errors in Python"
   ]
  },
  {
   "cell_type": "code",
   "execution_count": 7,
   "id": "32502f10-1959-4677-9ee7-cc0b6cdb9648",
   "metadata": {},
   "outputs": [
    {
     "ename": "IndentationError",
     "evalue": "unexpected indent (3723129648.py, line 2)",
     "output_type": "error",
     "traceback": [
      "\u001b[1;36m  Cell \u001b[1;32mIn[7], line 2\u001b[1;36m\u001b[0m\n\u001b[1;33m    print(\"Hello\u001b[0m\n\u001b[1;37m    ^\u001b[0m\n\u001b[1;31mIndentationError\u001b[0m\u001b[1;31m:\u001b[0m unexpected indent\n"
     ]
    }
   ],
   "source": [
    "# Syntax Error (won't run)\n",
    " print(\"Hello   \n",
    "#  missing end quote"
   ]
  },
  {
   "cell_type": "code",
   "execution_count": 8,
   "id": "b66bd7e8-3b16-44c8-be33-89d6e9e95e7c",
   "metadata": {},
   "outputs": [
    {
     "ename": "ZeroDivisionError",
     "evalue": "division by zero",
     "output_type": "error",
     "traceback": [
      "\u001b[1;31m---------------------------------------------------------------------------\u001b[0m",
      "\u001b[1;31mZeroDivisionError\u001b[0m                         Traceback (most recent call last)",
      "Cell \u001b[1;32mIn[8], line 3\u001b[0m\n\u001b[0;32m      1\u001b[0m \u001b[38;5;66;03m# Runtime Error (runs but crashes)\u001b[39;00m\n\u001b[0;32m      2\u001b[0m num \u001b[38;5;241m=\u001b[39m \u001b[38;5;241m5\u001b[39m\n\u001b[1;32m----> 3\u001b[0m \u001b[38;5;28mprint\u001b[39m(num \u001b[38;5;241m/\u001b[39m \u001b[38;5;241m0\u001b[39m)\n",
      "\u001b[1;31mZeroDivisionError\u001b[0m: division by zero"
     ]
    }
   ],
   "source": [
    "# Runtime Error (runs but crashes)\n",
    "num = 5\n",
    "print(num / 0)  \n",
    "# ZeroDivisionError\n"
   ]
  },
  {
   "cell_type": "code",
   "execution_count": 9,
   "id": "8f79fd07-5eab-4b22-af75-955a7d93b2da",
   "metadata": {},
   "outputs": [
    {
     "name": "stdout",
     "output_type": "stream",
     "text": [
      "Average: 120.0\n"
     ]
    }
   ],
   "source": [
    "# Logical Error (no crash but wrong logic)\n",
    "marks = [90, 80, 70]\n",
    "average = sum(marks) / 2  #  wrong logic, should be len(marks)\n",
    "print(\"Average:\", average)"
   ]
  },
  {
   "cell_type": "markdown",
   "id": "77e05d8f-55b4-4e83-bc72-2916363eedef",
   "metadata": {},
   "source": [
    "# Number Systems & Conversions"
   ]
  },
  {
   "cell_type": "code",
   "execution_count": 10,
   "id": "d1eb8773-259a-4f4d-8382-b325c0154d32",
   "metadata": {},
   "outputs": [
    {
     "name": "stdout",
     "output_type": "stream",
     "text": [
      "0b11001\n",
      "0o31\n",
      "0x19\n"
     ]
    }
   ],
   "source": [
    "# Decimal to Other Number Systems\n",
    "num = 25\n",
    "print(bin(num))  # 0b11001 → binary\n",
    "print(oct(num))  # 0o31 → octal\n",
    "print(hex(num))  # 0x19 → hexadecimal"
   ]
  },
  {
   "cell_type": "code",
   "execution_count": 11,
   "id": "1171df94-a946-4786-ab60-9ab05103774e",
   "metadata": {},
   "outputs": [
    {
     "name": "stdout",
     "output_type": "stream",
     "text": [
      "0b11001\n",
      "0o31\n",
      "0x19\n"
     ]
    }
   ],
   "source": [
    "# Decimal to Other Number Systems\n",
    "num = 25\n",
    "print(bin(num))  # 0b11001 → binary\n",
    "print(oct(num))  # 0o31 → octal\n",
    "print(hex(num))  # 0x19 → hexadecimal"
   ]
  }
 ],
 "metadata": {
  "kernelspec": {
   "display_name": "Python 3 (ipykernel)",
   "language": "python",
   "name": "python3"
  },
  "language_info": {
   "codemirror_mode": {
    "name": "ipython",
    "version": 3
   },
   "file_extension": ".py",
   "mimetype": "text/x-python",
   "name": "python",
   "nbconvert_exporter": "python",
   "pygments_lexer": "ipython3",
   "version": "3.12.7"
  }
 },
 "nbformat": 4,
 "nbformat_minor": 5
}

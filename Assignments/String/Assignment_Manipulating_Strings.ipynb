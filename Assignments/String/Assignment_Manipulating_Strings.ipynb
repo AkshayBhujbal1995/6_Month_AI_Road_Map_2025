{
 "cells": [
  {
   "cell_type": "markdown",
   "id": "c95e0c68-1cb5-405f-bd61-e7b49e934457",
   "metadata": {},
   "source": [
    "#  Assignment: Manipulating Strings in Python\n",
    "\n",
    "This assignment focuses on using Python string methods and concepts to work with text effectively.\n",
    "\n",
    "---\n",
    "\n",
    "##  Escape Characters\n",
    "\n",
    "Escape sequences let you insert special characters inside strings:\n",
    "\n",
    "| Escape | Meaning           |\n",
    "|--------|-------------------|\n",
    "| `\\'`   | Single quote      |\n",
    "| `\\\"`   | Double quote      |\n",
    "| `\\\\`   | Backslash         |\n",
    "| `\\n`   | Newline           |\n",
    "| `\\t`   | Tab               |\n",
    "| `\\b`   | Backspace         |\n",
    "| `\\r`   | Carriage return   |\n",
    "\n",
    "## What this assignmen covers:\n",
    "• Case conversions\n",
    "• Escape characters\n",
    "• Raw strings\n",
    "• Indexing & slicing\n",
    "• Membership\n",
    "• isX methods\n",
    "• find, replace, count\n",
    "• Padding, justifying, centering\n",
    "• Whitespace trimming\n",
    "• Joining & splitting\n",
    "• Partitioning\n",
    "• Line splitting\n",
    "• Tab expansion"
   ]
  },
  {
   "cell_type": "code",
   "execution_count": 1,
   "id": "3b4da788-bcf2-450d-8128-74b7cf135c80",
   "metadata": {},
   "outputs": [
    {
     "name": "stdout",
     "output_type": "stream",
     "text": [
      "Hello!\n",
      "How are you?\n",
      "I'm fine.\n"
     ]
    }
   ],
   "source": [
    "print(\"Hello!\\nHow are you?\\nI'm fine.\") "
   ]
  },
  {
   "cell_type": "code",
   "execution_count": 2,
   "id": "a0290973-0147-441e-a2de-184770a9841d",
   "metadata": {},
   "outputs": [
    {
     "name": "stdout",
     "output_type": "stream",
     "text": [
      "Line1\\nLine2\n"
     ]
    }
   ],
   "source": [
    "# Raw strings ignore escape characters:\n",
    "print(r\"Line1\\nLine2\")  # Output: Line1\\nLine2\n",
    "\n"
   ]
  },
  {
   "cell_type": "code",
   "execution_count": 3,
   "id": "0b42079f-39c1-4ffd-ad54-b67e1f1df62c",
   "metadata": {},
   "outputs": [
    {
     "name": "stdout",
     "output_type": "stream",
     "text": [
      "Dear Alice,\n",
      "Eve's cat has been arrested.\n",
      "Sincerely,\n",
      "Bob\n"
     ]
    }
   ],
   "source": [
    "# Use triple quotes for multiline text:\n",
    "print(\"\"\"Dear Alice,\n",
    "Eve's cat has been arrested.\n",
    "Sincerely,\n",
    "Bob\"\"\")"
   ]
  },
  {
   "cell_type": "code",
   "execution_count": 49,
   "id": "116850dc-81d8-4b24-873b-08f7a380c9e7",
   "metadata": {},
   "outputs": [],
   "source": [
    "# String for demo\n",
    "s = \"  Hello World!  \"\n",
    "text = \"hello world\"\n",
    "num_string = \"12345\"\n",
    "mixed = \"abc123\"\n",
    "whitespace = \"   \\t\\n\"\n",
    "name = \"my name is simon\"\n",
    "fruits = \"apple, banana, cherry, apple\"\n",
    "tabs = \"hello\\tworld\""
   ]
  },
  {
   "cell_type": "code",
   "execution_count": 50,
   "id": "0c27d012-c98b-4b37-8ef6-5f77bba5b475",
   "metadata": {},
   "outputs": [
    {
     "name": "stdout",
     "output_type": "stream",
     "text": [
      "1. Case Conversions\n",
      "  hello world!  \n",
      "HELLO WORLD\n",
      "hello world\n",
      "hELLO\n",
      "Hello World\n",
      "ssorat\n"
     ]
    }
   ],
   "source": [
    "# 1. Case Conversions\n",
    "print(\"1. Case Conversions\")\n",
    "print(s.capitalize())\n",
    "print(text.upper())\n",
    "print(text.lower())\n",
    "print(\"Hello\".swapcase())\n",
    "print(text.title())\n",
    "print(\"ßorat\".casefold())"
   ]
  },
  {
   "cell_type": "code",
   "execution_count": 51,
   "id": "0e2c80e3-df80-4fa6-9990-e9f8a895559a",
   "metadata": {},
   "outputs": [
    {
     "name": "stdout",
     "output_type": "stream",
     "text": [
      "\n",
      "2. Escape Characters\n",
      "Hello\n",
      "World\n",
      "Hello\tWorld\n",
      "I'm happy\n"
     ]
    }
   ],
   "source": [
    "# 2. Escape Characters\n",
    "print(\"\\n2. Escape Characters\")\n",
    "print(\"Hello\\nWorld\")\n",
    "print(\"Hello\\tWorld\")\n",
    "print(\"I\\'m happy\")"
   ]
  },
  {
   "cell_type": "code",
   "execution_count": 52,
   "id": "689d009c-dcef-4f0f-841c-3b7058f914f6",
   "metadata": {},
   "outputs": [
    {
     "name": "stdout",
     "output_type": "stream",
     "text": [
      "\n",
      "3. Raw Strings\n",
      "Hello\\nWorld\n"
     ]
    }
   ],
   "source": [
    "# 3. Raw Strings\n",
    "print(\"\\n3. Raw Strings\")\n",
    "print(r\"Hello\\nWorld\")"
   ]
  },
  {
   "cell_type": "code",
   "execution_count": 53,
   "id": "da38ccea-a9cc-455e-ae72-3bda4351ad19",
   "metadata": {},
   "outputs": [
    {
     "name": "stdout",
     "output_type": "stream",
     "text": [
      "\n",
      "4. Indexing & Slicing\n",
      " \n",
      " \n",
      "Hello\n",
      "  !dlroW olleH  \n"
     ]
    }
   ],
   "source": [
    "# 4. Indexing & Slicing\n",
    "print(\"\\n4. Indexing & Slicing\")\n",
    "print(s[0])       # ' '\n",
    "print(s[-1])      # ' '\n",
    "print(s[2:7])     # 'Hello'\n",
    "print(s[::-1])    # reversed"
   ]
  },
  {
   "cell_type": "code",
   "execution_count": 54,
   "id": "c6783335-6f1b-408d-8479-97a046c44ea6",
   "metadata": {},
   "outputs": [
    {
     "name": "stdout",
     "output_type": "stream",
     "text": [
      "\n",
      "5. Membership\n",
      "True\n",
      "True\n"
     ]
    }
   ],
   "source": [
    "# 5. Membership\n",
    "print(\"\\n5. Membership\")\n",
    "print(\"Hello\" in s)\n",
    "print(\"Bye\" not in s)"
   ]
  },
  {
   "cell_type": "code",
   "execution_count": 55,
   "id": "1bf519a1-43c0-48a6-8a12-1af31c08f51e",
   "metadata": {},
   "outputs": [
    {
     "name": "stdout",
     "output_type": "stream",
     "text": [
      "\n",
      "6. String Type Checks\n",
      "True\n",
      "True\n",
      "True\n",
      "True\n",
      "True\n",
      "True\n",
      "True\n",
      "True\n",
      "True\n"
     ]
    }
   ],
   "source": [
    "# 6. isX Checks\n",
    "print(\"\\n6. String Type Checks\")\n",
    "print(\"Hello\".isalpha())\n",
    "print(mixed.isalnum())\n",
    "print(num_string.isdecimal())\n",
    "print(whitespace.isspace())\n",
    "print(\"Hello World\".istitle())\n",
    "print(\"HELLO\".isupper())\n",
    "print(\"hello\".islower())\n",
    "print(\"hello_world\".isidentifier())\n",
    "print(\"Hi!\".isprintable())"
   ]
  },
  {
   "cell_type": "code",
   "execution_count": 56,
   "id": "51d3c07c-af09-4094-a32c-34965d2a34c6",
   "metadata": {},
   "outputs": [
    {
     "name": "stdout",
     "output_type": "stream",
     "text": [
      "\n",
      "7. Find & Replace\n",
      "Hello Home!\n",
      "orange, banana, cherry, apple\n",
      "2\n",
      "7\n",
      "15\n",
      "23\n",
      "23\n"
     ]
    }
   ],
   "source": [
    "# 7. Searching & Replacing\n",
    "print(\"\\n7. Find & Replace\")\n",
    "print(s.strip().replace(\"World\", \"Home\"))\n",
    "print(fruits.replace(\"apple\", \"orange\", 1))\n",
    "print(fruits.count(\"apple\"))\n",
    "print(fruits.find(\"banana\"))\n",
    "print(fruits.index(\"cherry\"))\n",
    "print(fruits.rfind(\"apple\"))\n",
    "print(fruits.rindex(\"apple\"))"
   ]
  },
  {
   "cell_type": "code",
   "execution_count": 57,
   "id": "46fae346-d109-4f01-be33-7304c8a51108",
   "metadata": {},
   "outputs": [
    {
     "name": "stdout",
     "output_type": "stream",
     "text": [
      "\n",
      "8. Alignment & Padding\n",
      "       Hello        \n",
      "=======Hello========\n",
      "Hello-----\n",
      "*****Hello\n",
      "00042\n"
     ]
    }
   ],
   "source": [
    "# 8. Alignment & Padding\n",
    "print(\"\\n8. Alignment & Padding\")\n",
    "print(\"Hello\".center(20))\n",
    "print(\"Hello\".center(20, '='))\n",
    "print(\"Hello\".ljust(10, '-'))\n",
    "print(\"Hello\".rjust(10, '*'))\n",
    "print(\"42\".zfill(5))"
   ]
  },
  {
   "cell_type": "code",
   "execution_count": 58,
   "id": "9ead3bb4-f429-42f9-94ac-712c64af1403",
   "metadata": {},
   "outputs": [
    {
     "name": "stdout",
     "output_type": "stream",
     "text": [
      "\n",
      "9. Whitespace Handling\n",
      "Hello World!\n",
      "Hello World!  \n",
      "  Hello World!\n"
     ]
    }
   ],
   "source": [
    "# 9. Whitespace\n",
    "print(\"\\n9. Whitespace Handling\")\n",
    "print(s.strip())\n",
    "print(s.lstrip())\n",
    "print(s.rstrip())"
   ]
  },
  {
   "cell_type": "code",
   "execution_count": 59,
   "id": "df2e78a3-e98b-4a1a-a43b-7247518950b1",
   "metadata": {},
   "outputs": [
    {
     "name": "stdout",
     "output_type": "stream",
     "text": [
      "\n",
      "10. Join & Split\n",
      "My name is Simon\n",
      "['my', 'name', 'is', 'simon']\n",
      "['My', 'name', 'is', 'Simon']\n"
     ]
    }
   ],
   "source": [
    "# 10. Joining & Splitting\n",
    "print(\"\\n10. Join & Split\")\n",
    "print(\" \".join([\"My\", \"name\", \"is\", \"Simon\"]))\n",
    "print(name.split())\n",
    "print(\"MyABCnameABCisABCSimon\".split(\"ABC\"))\n"
   ]
  },
  {
   "cell_type": "code",
   "execution_count": 60,
   "id": "65efcb32-329b-46cb-ab1a-02fb6ac34740",
   "metadata": {},
   "outputs": [
    {
     "name": "stdout",
     "output_type": "stream",
     "text": [
      "\n",
      "11. Partitioning\n",
      "('he', 'l', 'lo')\n",
      "('hel', 'l', 'o')\n"
     ]
    }
   ],
   "source": [
    "# 11. Partitioning\n",
    "print(\"\\n11. Partitioning\")\n",
    "print(\"hello\".partition(\"l\"))\n",
    "print(\"hello\".rpartition(\"l\"))"
   ]
  },
  {
   "cell_type": "code",
   "execution_count": 61,
   "id": "cbde4100-df3c-4850-a7ab-c94f6a029e06",
   "metadata": {},
   "outputs": [
    {
     "name": "stdout",
     "output_type": "stream",
     "text": [
      "\n",
      "12. Line Splitting\n",
      "['line1', 'line2', 'line3']\n"
     ]
    }
   ],
   "source": [
    "# 12. Line Splitting\n",
    "print(\"\\n12. Line Splitting\")\n",
    "print(\"line1\\nline2\\nline3\".splitlines())\n"
   ]
  },
  {
   "cell_type": "code",
   "execution_count": 62,
   "id": "075c4206-a980-49bb-b9dd-fc9e19a4d735",
   "metadata": {},
   "outputs": [
    {
     "name": "stdout",
     "output_type": "stream",
     "text": [
      "\n",
      "13. Expand Tabs\n",
      "hello   world\n"
     ]
    }
   ],
   "source": [
    "# 13. Expand Tabs\n",
    "print(\"\\n13. Expand Tabs\")\n",
    "print(tabs.expandtabs(4))"
   ]
  },
  {
   "cell_type": "code",
   "execution_count": null,
   "id": "1fca7782-566e-4272-91b4-23d0ee03c445",
   "metadata": {},
   "outputs": [],
   "source": []
  }
 ],
 "metadata": {
  "kernelspec": {
   "display_name": "Python 3 (ipykernel)",
   "language": "python",
   "name": "python3"
  },
  "language_info": {
   "codemirror_mode": {
    "name": "ipython",
    "version": 3
   },
   "file_extension": ".py",
   "mimetype": "text/x-python",
   "name": "python",
   "nbconvert_exporter": "python",
   "pygments_lexer": "ipython3",
   "version": "3.12.7"
  }
 },
 "nbformat": 4,
 "nbformat_minor": 5
}

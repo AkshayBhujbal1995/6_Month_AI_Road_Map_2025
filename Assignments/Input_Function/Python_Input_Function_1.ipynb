{
 "cells": [
  {
   "cell_type": "markdown",
   "id": "4440d909-40a5-4784-b255-2609e2abec0d",
   "metadata": {},
   "source": [
    "# **Question:**\n",
    " What is the `input()` function in Python used for? \n",
    "\n",
    "**Answer:** The `input()` function is used to read input from the user as a string. "
   ]
  },
  {
   "cell_type": "markdown",
   "id": "b4aa56be-1c19-4732-82a7-0d36f324d209",
   "metadata": {},
   "source": [
    "#  **Question:**\n",
    "How can you accept an integer as input from the user using `input()`? \n",
    "\n",
    "**Answer:** You can convert the string returned by `input()` into an integer using the `int()` \n"
   ]
  },
  {
   "cell_type": "code",
   "execution_count": 2,
   "id": "fb9be7e3-cbfa-4e1b-97dc-fc173e2f4faf",
   "metadata": {},
   "outputs": [
    {
     "name": "stdin",
     "output_type": "stream",
     "text": [
      "Enter an integer:  25\n"
     ]
    }
   ],
   "source": [
    "num = int(input(\"Enter an integer: \")) "
   ]
  },
  {
   "cell_type": "markdown",
   "id": "7f0eb141-855a-4ac8-8a6a-b04e167ecb6e",
   "metadata": {},
   "source": [
    "# **Question:** \n",
    "How do you accept a float input from the user? \n",
    "\n",
    "**Answer:** Use `float()` to convert the string input into a floating-point number:   \n",
    "   "
   ]
  },
  {
   "cell_type": "code",
   "execution_count": 5,
   "id": "7fe9bb70-de92-4bd5-9546-b332cfaffcee",
   "metadata": {},
   "outputs": [
    {
     "name": "stdin",
     "output_type": "stream",
     "text": [
      "Enter a float:  5\n"
     ]
    }
   ],
   "source": [
    "num = float(input(\"Enter a float: \"))"
   ]
  },
  {
   "cell_type": "code",
   "execution_count": 6,
   "id": "84c84084-963a-4b7f-abf2-7b586ea752d0",
   "metadata": {},
   "outputs": [
    {
     "data": {
      "text/plain": [
       "5.0"
      ]
     },
     "execution_count": 6,
     "metadata": {},
     "output_type": "execute_result"
    }
   ],
   "source": [
    "num"
   ]
  },
  {
   "cell_type": "markdown",
   "id": "a7fe3e17-f56e-4092-a5fe-152e3dc900f1",
   "metadata": {},
   "source": [
    "#  **Question:** \n",
    "How can you take multiple space-separated values as input? \n",
    "\n",
    "   **Answer:** You can use `split()` to split the input string into a list of values:   \n",
    "   "
   ]
  },
  {
   "cell_type": "code",
   "execution_count": 18,
   "id": "1f32cf78-7b0d-4154-b9ff-56dbab97a916",
   "metadata": {},
   "outputs": [
    {
     "name": "stdin",
     "output_type": "stream",
     "text": [
      "Enter values:  apple banana orange\n"
     ]
    }
   ],
   "source": [
    " values = input(\"Enter values: \").split()"
   ]
  },
  {
   "cell_type": "code",
   "execution_count": 19,
   "id": "d6cfdc1f-d47f-469d-9a52-dc44eade6be5",
   "metadata": {},
   "outputs": [
    {
     "data": {
      "text/plain": [
       "['apple', 'banana', 'orange']"
      ]
     },
     "execution_count": 19,
     "metadata": {},
     "output_type": "execute_result"
    }
   ],
   "source": [
    "values"
   ]
  },
  {
   "cell_type": "markdown",
   "id": "7f259f64-ee6d-45be-a7e8-195c8c048716",
   "metadata": {},
   "source": [
    "#  **Question:** \n",
    "How do you check if a number entered by the user is positive, negative, or zero? \n",
    "   \n",
    "**Answer:** Use an `if-elif-else` block to check the condition:   \n"
   ]
  },
  {
   "cell_type": "code",
   "execution_count": 9,
   "id": "1ea45d94-964b-4957-9d94-88e492f57ff9",
   "metadata": {},
   "outputs": [
    {
     "name": "stdin",
     "output_type": "stream",
     "text": [
      "Enter a number:  5\n"
     ]
    },
    {
     "name": "stdout",
     "output_type": "stream",
     "text": [
      "Positive\n"
     ]
    }
   ],
   "source": [
    "   num = int(input(\"Enter a number: \")) \n",
    "   if num > 0: \n",
    "       print(\"Positive\") \n",
    "   elif num < 0: \n",
    "       print(\"Negative\") \n",
    "   else: \n",
    "       print(\"Zero\") "
   ]
  },
  {
   "cell_type": "code",
   "execution_count": 12,
   "id": "50035ac8-1b11-44b9-9657-3843967f48e3",
   "metadata": {},
   "outputs": [
    {
     "name": "stdin",
     "output_type": "stream",
     "text": [
      "Enter a number:  -8\n"
     ]
    },
    {
     "name": "stdout",
     "output_type": "stream",
     "text": [
      "Negative\n"
     ]
    }
   ],
   "source": [
    "   num = int(input(\"Enter a number: \")) \n",
    "   if num > 0: \n",
    "       print(\"Positive\") \n",
    "   elif num < 0: \n",
    "       print(\"Negative\") \n",
    "   else: \n",
    "       print(\"Zero\") "
   ]
  },
  {
   "cell_type": "code",
   "execution_count": 13,
   "id": "0ab297d2-5e64-4f71-b759-56cbc94c74b3",
   "metadata": {},
   "outputs": [
    {
     "name": "stdin",
     "output_type": "stream",
     "text": [
      "Enter a number:  0\n"
     ]
    },
    {
     "name": "stdout",
     "output_type": "stream",
     "text": [
      "Zero\n"
     ]
    }
   ],
   "source": [
    "   num = int(input(\"Enter a number: \")) \n",
    "   if num > 0: \n",
    "       print(\"Positive\") \n",
    "   elif num < 0: \n",
    "       print(\"Negative\") \n",
    "   else: \n",
    "       print(\"Zero\") "
   ]
  },
  {
   "cell_type": "markdown",
   "id": "f63d0b6d-0d8e-4c9f-b13d-3a92458e32e5",
   "metadata": {},
   "source": [
    "#  **Question:** \n",
    "How do you convert user input to a list of integers? \n",
    "\n",
    "   **Answer:** After using `split()`, you can convert each element to an integer using a \n",
    "list comprehension:   \n"
   ]
  },
  {
   "cell_type": "code",
   "execution_count": 16,
   "id": "2fb1ecb2-9fda-49d2-8c38-686e68f3c104",
   "metadata": {},
   "outputs": [
    {
     "name": "stdin",
     "output_type": "stream",
     "text": [
      "Enter numbers:  1 2 4\n"
     ]
    }
   ],
   "source": [
    " nums = [int(x) for x in input(\"Enter numbers: \").split()] "
   ]
  },
  {
   "cell_type": "code",
   "execution_count": 17,
   "id": "d745f740-8f06-41a0-8ea3-c326e0f3aea6",
   "metadata": {},
   "outputs": [
    {
     "data": {
      "text/plain": [
       "[1, 2, 4]"
      ]
     },
     "execution_count": 17,
     "metadata": {},
     "output_type": "execute_result"
    }
   ],
   "source": [
    "nums"
   ]
  },
  {
   "cell_type": "markdown",
   "id": "4de7ae21-3af9-427f-8a48-d77af963e8ab",
   "metadata": {},
   "source": [
    "#  **Question:** \n",
    "How do you accept a string input and print it in uppercase? \n",
    "\n",
    "   **Answer:** You can use the `upper()` method:   \n",
    "  "
   ]
  },
  {
   "cell_type": "code",
   "execution_count": 20,
   "id": "95672cba-4ecf-404d-bee4-cc6ca5a6fd68",
   "metadata": {},
   "outputs": [
    {
     "name": "stdin",
     "output_type": "stream",
     "text": [
      "Enter a string:  Hello, how are you?\n"
     ]
    },
    {
     "name": "stdout",
     "output_type": "stream",
     "text": [
      "HELLO, HOW ARE YOU?\n"
     ]
    }
   ],
   "source": [
    "user_input = input(\"Enter a string: \") \n",
    "print(user_input.upper()) "
   ]
  },
  {
   "cell_type": "markdown",
   "id": "264fb551-7d66-4b5b-bde8-5a9302ee01d9",
   "metadata": {},
   "source": [
    "#  **Question:** \n",
    "Write a Python program that accepts a string and prints the number of vowels in it. \n",
    "\n",
    "**Answer:**\n"
   ]
  },
  {
   "cell_type": "code",
   "execution_count": 24,
   "id": "65a6dc0b-015d-4db2-b25f-25dde8ea383b",
   "metadata": {},
   "outputs": [
    {
     "name": "stdin",
     "output_type": "stream",
     "text": [
      "Enter a string:  Write a Python program that accepts a string and prints the number of vowels in it\n"
     ]
    },
    {
     "name": "stdout",
     "output_type": "stream",
     "text": [
      "Number of vowels: 21\n"
     ]
    }
   ],
   "source": [
    "text = input(\"Enter a string: \") \n",
    "vowels = \"aeiou\" \n",
    "count = sum(1 for char in text if char.lower() in vowels) \n",
    "print(\"Number of vowels:\", count)"
   ]
  },
  {
   "cell_type": "markdown",
   "id": "5497e006-edf3-4323-b545-bd5a87a1060d",
   "metadata": {},
   "source": [
    "#  **Question:** \n",
    " Write a program that takes a number as input and checks if it is even or odd. \n",
    " \n",
    "   **Answer:**   \n",
    "   "
   ]
  },
  {
   "cell_type": "code",
   "execution_count": 26,
   "id": "53e65a7c-f749-4d3b-bc37-5ed385e2f50e",
   "metadata": {},
   "outputs": [
    {
     "name": "stdin",
     "output_type": "stream",
     "text": [
      "Enter a number:  58\n"
     ]
    },
    {
     "name": "stdout",
     "output_type": "stream",
     "text": [
      "Even\n"
     ]
    }
   ],
   "source": [
    "num = int(input(\"Enter a number: \")) \n",
    "if num % 2 == 0: \n",
    "    print(\"Even\") \n",
    "else: \n",
    "    print(\"Odd\") "
   ]
  },
  {
   "cell_type": "code",
   "execution_count": 28,
   "id": "acd81404-b9c3-4082-b615-33e187a7ca73",
   "metadata": {},
   "outputs": [
    {
     "name": "stdin",
     "output_type": "stream",
     "text": [
      "Enter a number:  55\n"
     ]
    },
    {
     "name": "stdout",
     "output_type": "stream",
     "text": [
      "Odd\n"
     ]
    }
   ],
   "source": [
    "num = int(input(\"Enter a number: \")) \n",
    "if num % 2 == 0: \n",
    "    print(\"Even\") \n",
    "else: \n",
    "    print(\"Odd\") "
   ]
  },
  {
   "cell_type": "markdown",
   "id": "9d12850a-3a20-4364-97cb-d1daeeb6d405",
   "metadata": {},
   "source": [
    " \n",
    "#  **Question:** \n",
    "How would you check if a string is a palindrome using `input()`? \n",
    "  \n",
    "**Answer:**   \n"
   ]
  },
  {
   "cell_type": "code",
   "execution_count": 30,
   "id": "0194a77f-6bfd-4dc3-95d8-9423f0473078",
   "metadata": {},
   "outputs": [
    {
     "name": "stdin",
     "output_type": "stream",
     "text": [
      "Enter a string:  noon\n"
     ]
    },
    {
     "name": "stdout",
     "output_type": "stream",
     "text": [
      "Palindrome\n"
     ]
    }
   ],
   "source": [
    "text = input(\"Enter a string: \") \n",
    "if text == text[::-1]: \n",
    "    print(\"Palindrome\") \n",
    "else:\n",
    "     print(\"Not a palindrome\") "
   ]
  },
  {
   "cell_type": "code",
   "execution_count": 31,
   "id": "7aca0b21-9f5f-493d-aef8-732d55fd9a2a",
   "metadata": {},
   "outputs": [
    {
     "name": "stdin",
     "output_type": "stream",
     "text": [
      "Enter a string:  lol\n"
     ]
    },
    {
     "name": "stdout",
     "output_type": "stream",
     "text": [
      "Palindrome\n"
     ]
    }
   ],
   "source": [
    "text = input(\"Enter a string: \") \n",
    "if text == text[::-1]: \n",
    "    print(\"Palindrome\") \n",
    "else:\n",
    "     print(\"Not a palindrome\") "
   ]
  },
  {
   "cell_type": "code",
   "execution_count": 32,
   "id": "05c45f8b-9927-45d2-a344-bfafe843c22c",
   "metadata": {},
   "outputs": [
    {
     "name": "stdin",
     "output_type": "stream",
     "text": [
      "Enter a string:  stop\n"
     ]
    },
    {
     "name": "stdout",
     "output_type": "stream",
     "text": [
      "Not a palindrome\n"
     ]
    }
   ],
   "source": [
    "text = input(\"Enter a string: \") \n",
    "if text == text[::-1]: \n",
    "    print(\"Palindrome\") \n",
    "else:\n",
    "     print(\"Not a palindrome\") "
   ]
  }
 ],
 "metadata": {
  "kernelspec": {
   "display_name": "Python 3 (ipykernel)",
   "language": "python",
   "name": "python3"
  },
  "language_info": {
   "codemirror_mode": {
    "name": "ipython",
    "version": 3
   },
   "file_extension": ".py",
   "mimetype": "text/x-python",
   "name": "python",
   "nbconvert_exporter": "python",
   "pygments_lexer": "ipython3",
   "version": "3.12.7"
  }
 },
 "nbformat": 4,
 "nbformat_minor": 5
}

{
 "cells": [
  {
   "cell_type": "markdown",
   "id": "e14e3ee9-4d3e-4ecf-b4a8-d6e954adf715",
   "metadata": {},
   "source": [
    "# **Question:** \n",
    "Write a program that takes a number as input and prints its square. \n",
    "  \n",
    "**Answer:**   "
   ]
  },
  {
   "cell_type": "code",
   "execution_count": 3,
   "id": "943adcd0-259c-432d-a1d5-4991c9355cda",
   "metadata": {},
   "outputs": [
    {
     "name": "stdin",
     "output_type": "stream",
     "text": [
      "Enter a number:  4\n"
     ]
    },
    {
     "name": "stdout",
     "output_type": "stream",
     "text": [
      "Square: 16\n"
     ]
    }
   ],
   "source": [
    "num = int(input(\"Enter a number: \")) \n",
    "print(\"Square:\", num ** 2)"
   ]
  },
  {
   "cell_type": "markdown",
   "id": "ec5201d1-816f-43d4-80a2-7bcae8813217",
   "metadata": {},
   "source": [
    "# **Question:** \n",
    "Write a program that asks for a number and prints whether it is divisible by 3. \n",
    "   \n",
    "**Answer:**   "
   ]
  },
  {
   "cell_type": "code",
   "execution_count": 4,
   "id": "3c5aeabd-6057-4ed4-8f88-d42b2e7af422",
   "metadata": {},
   "outputs": [
    {
     "name": "stdin",
     "output_type": "stream",
     "text": [
      "Enter a number:  12\n"
     ]
    },
    {
     "name": "stdout",
     "output_type": "stream",
     "text": [
      "Divisible by 3\n"
     ]
    }
   ],
   "source": [
    "num = int(input(\"Enter a number: \")) \n",
    "if num % 3 == 0: \n",
    "    print(\"Divisible by 3\") \n",
    "else: \n",
    "    print(\"Not divisible by 3\")"
   ]
  },
  {
   "cell_type": "code",
   "execution_count": 5,
   "id": "4794dff1-29c4-4177-b620-5c4c62c23733",
   "metadata": {},
   "outputs": [
    {
     "name": "stdin",
     "output_type": "stream",
     "text": [
      "Enter a number:  20\n"
     ]
    },
    {
     "name": "stdout",
     "output_type": "stream",
     "text": [
      "Not divisible by 3\n"
     ]
    }
   ],
   "source": [
    "num = int(input(\"Enter a number: \")) \n",
    "if num % 3 == 0: \n",
    "    print(\"Divisible by 3\") \n",
    "else: \n",
    "    print(\"Not divisible by 3\")"
   ]
  },
  {
   "cell_type": "markdown",
   "id": "7f0d84a8-0739-465a-a6bd-260ddccdd2da",
   "metadata": {},
   "source": [
    "# **Question:** \n",
    "How would you check if a number is divisible by both 3 and 7? \n",
    "   \n",
    "**Answer:**   "
   ]
  },
  {
   "cell_type": "code",
   "execution_count": 6,
   "id": "300659ba-5a0a-497a-9c67-f96ec0494b07",
   "metadata": {},
   "outputs": [
    {
     "name": "stdin",
     "output_type": "stream",
     "text": [
      "Enter a number:  55\n"
     ]
    },
    {
     "name": "stdout",
     "output_type": "stream",
     "text": [
      "Not divisible by both 3 and 7\n"
     ]
    }
   ],
   "source": [
    "num = int(input(\"Enter a number: \")) \n",
    "if num % 3 == 0 and num % 7 == 0: \n",
    "    print(\"Divisible by both 3 and 7\") \n",
    "else: \n",
    "    print(\"Not divisible by both 3 and 7\")"
   ]
  },
  {
   "cell_type": "code",
   "execution_count": 7,
   "id": "5599cc92-b5de-48e4-bcbc-574c11a9c7b8",
   "metadata": {},
   "outputs": [
    {
     "name": "stdin",
     "output_type": "stream",
     "text": [
      "Enter a number:  21\n"
     ]
    },
    {
     "name": "stdout",
     "output_type": "stream",
     "text": [
      "Divisible by both 3 and 7\n"
     ]
    }
   ],
   "source": [
    "num = int(input(\"Enter a number: \")) \n",
    "if num % 3 == 0 and num % 7 == 0: \n",
    "    print(\"Divisible by both 3 and 7\") \n",
    "else: \n",
    "    print(\"Not divisible by both 3 and 7\")"
   ]
  },
  {
   "cell_type": "markdown",
   "id": "fdc172ba-00f3-4dbf-920c-57927c751852",
   "metadata": {},
   "source": [
    "# **Question:** \n",
    "How do you accept a list of comma-separated values as input? \n",
    "   \n",
    "**Answer:**   "
   ]
  },
  {
   "cell_type": "code",
   "execution_count": 9,
   "id": "30c78141-ef99-4770-829d-45ab8a23bab3",
   "metadata": {},
   "outputs": [
    {
     "name": "stdin",
     "output_type": "stream",
     "text": [
      "Enter comma-separated values:  apple, banana, cherry\n"
     ]
    }
   ],
   "source": [
    " values = input(\"Enter comma-separated values: \").split(',')"
   ]
  },
  {
   "cell_type": "code",
   "execution_count": 10,
   "id": "e9d2ff37-ef84-457d-888b-03f4ac30b02c",
   "metadata": {},
   "outputs": [
    {
     "data": {
      "text/plain": [
       "['apple', ' banana', ' cherry']"
      ]
     },
     "execution_count": 10,
     "metadata": {},
     "output_type": "execute_result"
    }
   ],
   "source": [
    "values"
   ]
  },
  {
   "cell_type": "markdown",
   "id": "5f2fe298-a75f-4882-bd95-a9f25d300acd",
   "metadata": {},
   "source": [
    "# **Question:** \n",
    "Write a Python program that takes two numbers as input and prints their product. \n",
    "   \n",
    "**Answer:**  "
   ]
  },
  {
   "cell_type": "code",
   "execution_count": 11,
   "id": "3bdb3a82-1a01-4b84-905b-4e9942c216ef",
   "metadata": {},
   "outputs": [
    {
     "name": "stdin",
     "output_type": "stream",
     "text": [
      "Enter first number:  88\n",
      "Enter second number:  66\n"
     ]
    },
    {
     "name": "stdout",
     "output_type": "stream",
     "text": [
      "Product: 5808\n"
     ]
    }
   ],
   "source": [
    "num1 = int(input(\"Enter first number: \")) \n",
    "num2 = int(input(\"Enter second number: \")) \n",
    "print(\"Product:\", num1 * num2) "
   ]
  },
  {
   "cell_type": "markdown",
   "id": "a932ee37-9bcb-48d8-90cf-6475cdf0408b",
   "metadata": {},
   "source": [
    "# **Question:** \n",
    "Write a program that checks if the input number is a prime number. \n",
    "   \n",
    "**Answer:**   "
   ]
  },
  {
   "cell_type": "code",
   "execution_count": 16,
   "id": "476e2523-0ec6-4315-a53d-742bba04aa3c",
   "metadata": {},
   "outputs": [
    {
     "name": "stdin",
     "output_type": "stream",
     "text": [
      "Enter a number:  101\n"
     ]
    },
    {
     "name": "stdout",
     "output_type": "stream",
     "text": [
      "Prime number\n"
     ]
    }
   ],
   "source": [
    "num = int(input(\"Enter a number: \")) \n",
    "\n",
    "if num > 1:\n",
    "    for i in range(2, num):\n",
    "        if num % i == 0:\n",
    "            print(\"Not a prime number\")\n",
    "            break\n",
    "    else:\n",
    "        print(\"Prime number\")\n",
    "else:\n",
    "    print(\"Not a prime number\")\n"
   ]
  },
  {
   "cell_type": "markdown",
   "id": "6ac85999-1892-4b92-a08b-0756e5d512d9",
   "metadata": {},
   "source": [
    "# **Question:** \n",
    "How can you accept a boolean value (True/False) from the user? \n",
    "  \n",
    "**Answer:**   "
   ]
  },
  {
   "cell_type": "code",
   "execution_count": 17,
   "id": "f00f184a-9ecc-47ac-8bdd-ae566934778f",
   "metadata": {},
   "outputs": [
    {
     "name": "stdin",
     "output_type": "stream",
     "text": [
      "Enter True or False:  TRUE\n"
     ]
    }
   ],
   "source": [
    "user_input = input(\"Enter True or False: \").lower() == \"true\" "
   ]
  },
  {
   "cell_type": "code",
   "execution_count": 18,
   "id": "e1592c8a-43ba-4dc5-afbd-e9e71a6e25f2",
   "metadata": {},
   "outputs": [
    {
     "data": {
      "text/plain": [
       "True"
      ]
     },
     "execution_count": 18,
     "metadata": {},
     "output_type": "execute_result"
    }
   ],
   "source": [
    "user_input"
   ]
  },
  {
   "cell_type": "markdown",
   "id": "c6c7f80d-0e2b-4a3a-9874-51a4cc9ee61a",
   "metadata": {},
   "source": [
    "# **Question:** \n",
    "Write a program that accepts a string and prints the reverse of that string. \n",
    "\n",
    "**Answer:**   "
   ]
  },
  {
   "cell_type": "code",
   "execution_count": 20,
   "id": "77aa2bf0-9df0-4a58-aee7-55a7ed290902",
   "metadata": {},
   "outputs": [
    {
     "name": "stdin",
     "output_type": "stream",
     "text": [
      "Enter a string:  Hello World!\n"
     ]
    },
    {
     "name": "stdout",
     "output_type": "stream",
     "text": [
      "Reversed string: !dlroW olleH\n"
     ]
    }
   ],
   "source": [
    "user_input = input(\"Enter a string: \") \n",
    "print(\"Reversed string:\", user_input[::-1])"
   ]
  },
  {
   "cell_type": "markdown",
   "id": "4c2b10ab-99df-441f-857c-9ebbf5d2c598",
   "metadata": {},
   "source": [
    "# **Question:**\n",
    "Write a program that asks for a user's name and age and prints a message. \n",
    "  \n",
    "**Answer:**   "
   ]
  },
  {
   "cell_type": "code",
   "execution_count": 21,
   "id": "9cf70068-cf7c-4bd1-bc96-a93323fc1a30",
   "metadata": {},
   "outputs": [
    {
     "name": "stdin",
     "output_type": "stream",
     "text": [
      "Enter your name:  Akshay\n",
      "Enter your age:  20\n"
     ]
    },
    {
     "name": "stdout",
     "output_type": "stream",
     "text": [
      "Hello, Akshay. You are 20 years old.\n"
     ]
    }
   ],
   "source": [
    "\n",
    "   name = input(\"Enter your name: \") \n",
    "   age = int(input(\"Enter your age: \")) \n",
    "   print(f\"Hello, {name}. You are {age} years old.\")"
   ]
  },
  {
   "cell_type": "markdown",
   "id": "7dea8ce9-9720-4128-bc8e-678fba4be106",
   "metadata": {},
   "source": [
    "# **Question:** \n",
    "Write a program to calculate the factorial of a number using `input()`. \n",
    "\n",
    "**Answer:**   "
   ]
  },
  {
   "cell_type": "code",
   "execution_count": 22,
   "id": "e60bc6da-a4a3-43a2-a52c-f045e403a763",
   "metadata": {},
   "outputs": [
    {
     "name": "stdin",
     "output_type": "stream",
     "text": [
      "Enter a number:  8\n"
     ]
    },
    {
     "name": "stdout",
     "output_type": "stream",
     "text": [
      "Factorial: 40320\n"
     ]
    }
   ],
   "source": [
    "\n",
    "   num = int(input(\"Enter a number: \")) \n",
    "   factorial = 1 \n",
    "   for i in range(1, num + 1): \n",
    "       factorial *= i \n",
    "   print(\"Factorial:\", factorial)"
   ]
  }
 ],
 "metadata": {
  "kernelspec": {
   "display_name": "Python 3 (ipykernel)",
   "language": "python",
   "name": "python3"
  },
  "language_info": {
   "codemirror_mode": {
    "name": "ipython",
    "version": 3
   },
   "file_extension": ".py",
   "mimetype": "text/x-python",
   "name": "python",
   "nbconvert_exporter": "python",
   "pygments_lexer": "ipython3",
   "version": "3.12.7"
  }
 },
 "nbformat": 4,
 "nbformat_minor": 5
}

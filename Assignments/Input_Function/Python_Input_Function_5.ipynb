{
 "cells": [
  {
   "cell_type": "markdown",
   "id": "16af7fc0-c893-4f68-a1ae-bac91786987c",
   "metadata": {},
   "source": [
    "# **Question:** \n",
    "Write a program to check if the entered string has digits. \n",
    "   \n",
    "**Answer:**   "
   ]
  },
  {
   "cell_type": "code",
   "execution_count": 1,
   "id": "67f6b413-578c-4914-a546-1755f4421b44",
   "metadata": {},
   "outputs": [
    {
     "name": "stdin",
     "output_type": "stream",
     "text": [
      "Enter a string:  what digits? no\n"
     ]
    },
    {
     "name": "stdout",
     "output_type": "stream",
     "text": [
      "No digits\n"
     ]
    }
   ],
   "source": [
    "\n",
    "   user_input = input(\"Enter a string: \") \n",
    "   if any(char.isdigit() for char in user_input): \n",
    "       print(\"Contains digits\") \n",
    "   else: \n",
    "       print(\"No digits\") "
   ]
  },
  {
   "cell_type": "code",
   "execution_count": 2,
   "id": "3bc7c44e-6732-440e-894c-876ac6b7c138",
   "metadata": {},
   "outputs": [
    {
     "name": "stdin",
     "output_type": "stream",
     "text": [
      "Enter a string:  hmmmm, it has 1 in it\n"
     ]
    },
    {
     "name": "stdout",
     "output_type": "stream",
     "text": [
      "Contains digits\n"
     ]
    }
   ],
   "source": [
    "\n",
    "   user_input = input(\"Enter a string: \") \n",
    "   if any(char.isdigit() for char in user_input): \n",
    "       print(\"Contains digits\") \n",
    "   else: \n",
    "       print(\"No digits\") "
   ]
  },
  {
   "cell_type": "markdown",
   "id": "dc29c90e-8a13-4f6e-a764-e7c016c67c09",
   "metadata": {},
   "source": [
    "# **Question:** \n",
    "Write a program to check if the entered string has only whitespace characters. \n",
    "   \n",
    "**Answer:**   "
   ]
  },
  {
   "cell_type": "code",
   "execution_count": 3,
   "id": "481c74c6-e0cb-4c92-ad9a-860b1071c65a",
   "metadata": {},
   "outputs": [
    {
     "name": "stdin",
     "output_type": "stream",
     "text": [
      "Enter a string:  Hello  world     welcome\n"
     ]
    },
    {
     "name": "stdout",
     "output_type": "stream",
     "text": [
      "Contains non-whitespace characters\n"
     ]
    }
   ],
   "source": [
    "   user_input = input(\"Enter a string: \") \n",
    "   if user_input.isspace(): \n",
    "       print(\"Only whitespace\") \n",
    "   else: \n",
    "       print(\"Contains non-whitespace characters\") "
   ]
  },
  {
   "cell_type": "code",
   "execution_count": 7,
   "id": "dc758e4c-4c9a-4540-9a4a-37d7f17f5916",
   "metadata": {},
   "outputs": [
    {
     "name": "stdin",
     "output_type": "stream",
     "text": [
      "Enter a string:   \n"
     ]
    },
    {
     "name": "stdout",
     "output_type": "stream",
     "text": [
      "Only whitespace\n"
     ]
    }
   ],
   "source": [
    "\n",
    "   user_input = input(\"Enter a string: \") \n",
    "   if user_input.isspace(): \n",
    "       print(\"Only whitespace\") \n",
    "   else: \n",
    "       print(\"Contains non-whitespace characters\") "
   ]
  },
  {
   "cell_type": "markdown",
   "id": "409c591d-8c31-42a6-9260-f2956d45b756",
   "metadata": {},
   "source": [
    "# **Question:** \n",
    "Write a program to find the sum of all digits in a string entered by the user. \n",
    "   \n",
    "**Answer:**   "
   ]
  },
  {
   "cell_type": "code",
   "execution_count": 8,
   "id": "973ef60d-fda6-4d93-b871-2bcfb8f17589",
   "metadata": {},
   "outputs": [
    {
     "name": "stdin",
     "output_type": "stream",
     "text": [
      "Enter a string:  He's phone number is 12345678910\n"
     ]
    },
    {
     "name": "stdout",
     "output_type": "stream",
     "text": [
      "Sum of digits: 46\n"
     ]
    }
   ],
   "source": [
    "text = input(\"Enter a string: \") \n",
    "digit_sum = sum(int(digit) for digit in text if digit.isdigit()) \n",
    "print(\"Sum of digits:\", digit_sum) "
   ]
  },
  {
   "cell_type": "markdown",
   "id": "3e73538f-0b71-4a90-97c1-8a5675a129d0",
   "metadata": {},
   "source": [
    "# **Question:** \n",
    "Write a program that accepts a number and prints its absolute value. \n",
    "   \n",
    "**Answer:**   "
   ]
  },
  {
   "cell_type": "code",
   "execution_count": 10,
   "id": "d99fb920-96a0-4052-a921-6763540ca917",
   "metadata": {},
   "outputs": [
    {
     "name": "stdin",
     "output_type": "stream",
     "text": [
      "Enter a number:  5854\n"
     ]
    },
    {
     "name": "stdout",
     "output_type": "stream",
     "text": [
      "Absolute value: 5854\n"
     ]
    }
   ],
   "source": [
    "num = int(input(\"Enter a number: \")) \n",
    "print(\"Absolute value:\", abs(num)) "
   ]
  },
  {
   "cell_type": "code",
   "execution_count": 11,
   "id": "17eb43ed-6589-4f67-ab2a-6f0cef8f8fbf",
   "metadata": {},
   "outputs": [
    {
     "name": "stdin",
     "output_type": "stream",
     "text": [
      "Enter a number:  -8585\n"
     ]
    },
    {
     "name": "stdout",
     "output_type": "stream",
     "text": [
      "Absolute value: 8585\n"
     ]
    }
   ],
   "source": [
    "num = int(input(\"Enter a number: \")) \n",
    "print(\"Absolute value:\", abs(num)) "
   ]
  },
  {
   "cell_type": "markdown",
   "id": "55362384-a007-44af-9a63-6c8f5b1fd3df",
   "metadata": {},
   "source": [
    "# **Question:** \n",
    "How would you check if a string entered by the user contains any uppercase letters? \n",
    "   \n",
    "**Answer:**   "
   ]
  },
  {
   "cell_type": "code",
   "execution_count": 13,
   "id": "22bde58c-e787-4f9e-8781-acd41f66794a",
   "metadata": {},
   "outputs": [
    {
     "name": "stdin",
     "output_type": "stream",
     "text": [
      "Enter a string:  Hello, How Are you ?\n"
     ]
    },
    {
     "name": "stdout",
     "output_type": "stream",
     "text": [
      "Contains uppercase letters\n"
     ]
    }
   ],
   "source": [
    "user_input = input(\"Enter a string: \") \n",
    "if any(char.isupper() for char in user_input): \n",
    "    print(\"Contains uppercase letters\") \n",
    "else: \n",
    "    print(\"No uppercase letters\") "
   ]
  },
  {
   "cell_type": "code",
   "execution_count": 14,
   "id": "7b87f4ee-cfd1-48e6-b6f6-6511b0113867",
   "metadata": {},
   "outputs": [
    {
     "name": "stdin",
     "output_type": "stream",
     "text": [
      "Enter a string:  hello\n"
     ]
    },
    {
     "name": "stdout",
     "output_type": "stream",
     "text": [
      "No uppercase letters\n"
     ]
    }
   ],
   "source": [
    "user_input = input(\"Enter a string: \") \n",
    "if any(char.isupper() for char in user_input): \n",
    "    print(\"Contains uppercase letters\") \n",
    "else: \n",
    "    print(\"No uppercase letters\") "
   ]
  },
  {
   "cell_type": "markdown",
   "id": "c6d3530b-c9f4-4380-9458-8eb803b530cb",
   "metadata": {},
   "source": [
    "# **Question:** \n",
    "Write a program that converts Celsius to Fahrenheit.\n",
    "\n",
    "**Answer:** "
   ]
  },
  {
   "cell_type": "code",
   "execution_count": 16,
   "id": "b6ebeeaf-719e-4f11-979e-d43bd1367598",
   "metadata": {},
   "outputs": [
    {
     "name": "stdin",
     "output_type": "stream",
     "text": [
      "Enter temperature in Celsius:  35\n"
     ]
    },
    {
     "name": "stdout",
     "output_type": "stream",
     "text": [
      "Temperature in Fahrenheit: 95.0\n"
     ]
    }
   ],
   "source": [
    "celsius = float(input(\"Enter temperature in Celsius: \")) \n",
    "fahrenheit = (celsius * 9/5) + 32 \n",
    "print(f\"Temperature in Fahrenheit: {fahrenheit}\") "
   ]
  },
  {
   "cell_type": "markdown",
   "id": "d9ab61bc-aa2c-4665-9904-b6490502ac8b",
   "metadata": {},
   "source": [
    "# **Question:** \n",
    "Write a program to find the average of a list of numbers entered by the user. \n",
    "   \n",
    "**Answer:**  "
   ]
  },
  {
   "cell_type": "code",
   "execution_count": 17,
   "id": "2d494a71-dba7-46fc-a6e3-72a001bb715b",
   "metadata": {},
   "outputs": [
    {
     "name": "stdin",
     "output_type": "stream",
     "text": [
      "Enter numbers separated by space:  98 22 44 99 66 55 77 \n"
     ]
    },
    {
     "name": "stdout",
     "output_type": "stream",
     "text": [
      "Average: 65.85714285714286\n"
     ]
    }
   ],
   "source": [
    "numbers = list(map(int, input(\"Enter numbers separated by space: \").split())) \n",
    "print(\"Average:\", sum(numbers) / len(numbers)) "
   ]
  },
  {
   "cell_type": "markdown",
   "id": "863e2029-a6ef-43fd-b926-625e6f9bb668",
   "metadata": {},
   "source": [
    "# **Question:** \n",
    "Write a program to count the number of consonants in a string entered by the user. \n",
    "   \n",
    "**Answer:**   "
   ]
  },
  {
   "cell_type": "code",
   "execution_count": 18,
   "id": "07500386-a232-4eec-ab39-ff28e9f9c99b",
   "metadata": {},
   "outputs": [
    {
     "name": "stdin",
     "output_type": "stream",
     "text": [
      "Enter a string:  Well, this is getting interesting \n"
     ]
    },
    {
     "name": "stdout",
     "output_type": "stream",
     "text": [
      "Number of consonants: 19\n"
     ]
    }
   ],
   "source": [
    "\n",
    "   text = input(\"Enter a string: \") \n",
    "   consonants = \"bcdfghjklmnpqrstvwxyz\" \n",
    "   count = sum(1 for char in text.lower() if char in consonants) \n",
    "   print(\"Number of consonants:\", count)"
   ]
  },
  {
   "cell_type": "markdown",
   "id": "771a05a7-577b-40cd-abad-8997fcf98cd6",
   "metadata": {},
   "source": [
    "# **Question:** \n",
    "How do you check if a string entered by the user contains any \n",
    "punctuation? \n",
    "   \n",
    "**Answer:** "
   ]
  },
  {
   "cell_type": "code",
   "execution_count": 19,
   "id": "fce74486-d49a-4fb9-8fe1-0cf9a546ddbd",
   "metadata": {},
   "outputs": [
    {
     "name": "stdin",
     "output_type": "stream",
     "text": [
      "Enter a string:  hehe, ok just a min?\n"
     ]
    },
    {
     "name": "stdout",
     "output_type": "stream",
     "text": [
      "Contains punctuation\n"
     ]
    }
   ],
   "source": [
    "\n",
    "   import string \n",
    "   text = input(\"Enter a string: \") \n",
    "   if any(char in string.punctuation for char in text): \n",
    "       print(\"Contains punctuation\") \n",
    "   else: \n",
    "       print(\"No punctuation\") "
   ]
  },
  {
   "cell_type": "markdown",
   "id": "263933b3-1619-4826-8830-1a81a63f997e",
   "metadata": {},
   "source": [
    "# **Question:** \n",
    "Write a program that accepts a sentence and prints the longest \n",
    "word. \n",
    "   \n",
    "**Answer:**   "
   ]
  },
  {
   "cell_type": "code",
   "execution_count": 20,
   "id": "ffca8f6a-dfd2-4b36-a28f-1a43745c1f93",
   "metadata": {},
   "outputs": [
    {
     "name": "stdin",
     "output_type": "stream",
     "text": [
      "Enter a sentence:  Write a program that accepts a sentence and prints the longest word he he\n"
     ]
    },
    {
     "name": "stdout",
     "output_type": "stream",
     "text": [
      "Longest word: sentence\n"
     ]
    }
   ],
   "source": [
    "text = input(\"Enter a sentence: \") \n",
    "words = text.split() \n",
    "longest_word = max(words, key=len) \n",
    "print(\"Longest word:\", longest_word) "
   ]
  }
 ],
 "metadata": {
  "kernelspec": {
   "display_name": "Python 3 (ipykernel)",
   "language": "python",
   "name": "python3"
  },
  "language_info": {
   "codemirror_mode": {
    "name": "ipython",
    "version": 3
   },
   "file_extension": ".py",
   "mimetype": "text/x-python",
   "name": "python",
   "nbconvert_exporter": "python",
   "pygments_lexer": "ipython3",
   "version": "3.12.7"
  }
 },
 "nbformat": 4,
 "nbformat_minor": 5
}

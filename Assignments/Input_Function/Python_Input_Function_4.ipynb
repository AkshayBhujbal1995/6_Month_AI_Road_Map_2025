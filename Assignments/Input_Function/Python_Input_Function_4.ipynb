{
 "cells": [
  {
   "cell_type": "markdown",
   "id": "ef409d72-ac21-4437-b1ba-59cd8ca6ad00",
   "metadata": {},
   "source": [
    "# **Question:** \n",
    "How would you accept a date input from the user in Python? \n",
    "   \n",
    "**Answer:**   "
   ]
  },
  {
   "cell_type": "code",
   "execution_count": 1,
   "id": "d5c017c3-51fc-4840-944d-1ef03247ae4f",
   "metadata": {},
   "outputs": [
    {
     "name": "stdin",
     "output_type": "stream",
     "text": [
      "Enter a date (YYYY-MM-DD):  2025-05-16\n"
     ]
    },
    {
     "name": "stdout",
     "output_type": "stream",
     "text": [
      "Entered date: 2025-05-16 00:00:00\n"
     ]
    }
   ],
   "source": [
    "\n",
    "   from datetime import datetime \n",
    "   date_str = input(\"Enter a date (YYYY-MM-DD): \") \n",
    "   date = datetime.strptime(date_str, \"%Y-%m-%d\") \n",
    "   print(\"Entered date:\", date)"
   ]
  },
  {
   "cell_type": "markdown",
   "id": "5f25e18a-52a5-4516-badb-edade136f580",
   "metadata": {},
   "source": [
    "# **Question:** \n",
    "Write a program that checks if the entered number is divisible by both 3 and 5. \n",
    "   \n",
    "**Answer:**   "
   ]
  },
  {
   "cell_type": "code",
   "execution_count": 2,
   "id": "760a9b61-9060-48c7-b32b-567be15e6294",
   "metadata": {},
   "outputs": [
    {
     "name": "stdin",
     "output_type": "stream",
     "text": [
      "Enter a number:  15\n"
     ]
    },
    {
     "name": "stdout",
     "output_type": "stream",
     "text": [
      "Divisible by both 3 and 5\n"
     ]
    }
   ],
   "source": [
    "\n",
    "   num = int(input(\"Enter a number: \")) \n",
    "   if num % 3 == 0 and num % 5 == 0: \n",
    "       print(\"Divisible by both 3 and 5\") \n",
    "   else: \n",
    "       print(\"Not divisible by both 3 and 5\") "
   ]
  },
  {
   "cell_type": "markdown",
   "id": "9df9c065-7cc4-4d09-8931-f8c16bc4f0eb",
   "metadata": {},
   "source": [
    "# **Question:** \n",
    "Write a program to swap the values of two variables using `input()`. \n",
    "   \n",
    "**Answer:**   "
   ]
  },
  {
   "cell_type": "code",
   "execution_count": 3,
   "id": "58979d09-2266-4e1e-8911-85c7f0e43e68",
   "metadata": {},
   "outputs": [
    {
     "name": "stdin",
     "output_type": "stream",
     "text": [
      "Enter first value:  88\n",
      "Enter second value:  99\n"
     ]
    },
    {
     "name": "stdout",
     "output_type": "stream",
     "text": [
      "Swapped values: a = 99, b = 88\n"
     ]
    }
   ],
   "source": [
    "\n",
    "   a = input(\"Enter first value: \") \n",
    "   b = input(\"Enter second value: \") \n",
    "   a, b = b, a \n",
    "   print(f\"Swapped values: a = {a}, b = {b}\") "
   ]
  },
  {
   "cell_type": "markdown",
   "id": "a746288c-0f67-44e7-a2aa-028aa1a6aff1",
   "metadata": {},
   "source": [
    "# **Question:** \n",
    "Write a program to take user input and print it without spaces between words. \n",
    "   \n",
    "**Answer:**   "
   ]
  },
  {
   "cell_type": "code",
   "execution_count": 4,
   "id": "6df34ede-2ec5-4f51-87ec-b0d6997cf845",
   "metadata": {},
   "outputs": [
    {
     "name": "stdin",
     "output_type": "stream",
     "text": [
      "Enter a string:  Hello World, welcome!\n"
     ]
    },
    {
     "name": "stdout",
     "output_type": "stream",
     "text": [
      "HelloWorld,welcome!\n"
     ]
    }
   ],
   "source": [
    "user_input = input(\"Enter a string: \") \n",
    "print(user_input.replace(\" \", \"\")) "
   ]
  },
  {
   "cell_type": "markdown",
   "id": "209ba76f-08df-41f3-a802-4f9ddd5d4cb8",
   "metadata": {},
   "source": [
    "# **Question:** \n",
    "How do you validate if an entered input is a valid email address? \n",
    "   \n",
    "**Answer:**   "
   ]
  },
  {
   "cell_type": "code",
   "execution_count": 5,
   "id": "8cae9631-06e5-4e42-bf7e-f0b5f8705707",
   "metadata": {},
   "outputs": [
    {
     "name": "stdin",
     "output_type": "stream",
     "text": [
      "Enter email:  absd.sddd@gmail.ccc\n"
     ]
    },
    {
     "name": "stdout",
     "output_type": "stream",
     "text": [
      "Valid email\n"
     ]
    }
   ],
   "source": [
    "\n",
    "   import re \n",
    "   email = input(\"Enter email: \") \n",
    "   if re.match(r\"[^@]+@[^@]+\\.[^@]+\", email): \n",
    "       print(\"Valid email\") \n",
    "   else: \n",
    "       print(\"Invalid email\") "
   ]
  },
  {
   "cell_type": "code",
   "execution_count": 6,
   "id": "46d5390e-8e87-43d4-be49-1826d4bb8e3b",
   "metadata": {},
   "outputs": [
    {
     "name": "stdin",
     "output_type": "stream",
     "text": [
      "Enter email:  aaaaa12@aas@.ddd\n"
     ]
    },
    {
     "name": "stdout",
     "output_type": "stream",
     "text": [
      "Invalid email\n"
     ]
    }
   ],
   "source": [
    "   import re \n",
    "   email = input(\"Enter email: \") \n",
    "   if re.match(r\"[^@]+@[^@]+\\.[^@]+\", email): \n",
    "       print(\"Valid email\") \n",
    "   else: \n",
    "       print(\"Invalid email\") "
   ]
  },
  {
   "cell_type": "markdown",
   "id": "b2051315-af8b-48e0-8db4-445f316cf475",
   "metadata": {},
   "source": [
    "# **Question:** \n",
    "Write a program that accepts a number and prints its cube. \n",
    "   \n",
    "**Answer:**   \n"
   ]
  },
  {
   "cell_type": "code",
   "execution_count": 8,
   "id": "0d76262a-7211-4a31-b356-a7e38d212363",
   "metadata": {},
   "outputs": [
    {
     "name": "stdin",
     "output_type": "stream",
     "text": [
      "Enter a number:  9\n"
     ]
    },
    {
     "name": "stdout",
     "output_type": "stream",
     "text": [
      "Cube: 729\n"
     ]
    }
   ],
   "source": [
    "num = int(input(\"Enter a number: \")) \n",
    "print(\"Cube:\", num ** 3) "
   ]
  },
  {
   "cell_type": "markdown",
   "id": "dd1a8567-90f9-4507-81ca-cfb279d1efd2",
   "metadata": {},
   "source": [
    "# **Question:** \n",
    "How would you accept and store multiple names from the user? \n",
    "   \n",
    "**Answer:**   \n"
   ]
  },
  {
   "cell_type": "code",
   "execution_count": 9,
   "id": "27a9a9a9-0281-4415-8862-335d6e7bbd69",
   "metadata": {},
   "outputs": [
    {
     "name": "stdin",
     "output_type": "stream",
     "text": [
      "Enter names separated by commas:  Apple, Banana, Orange\n"
     ]
    },
    {
     "name": "stdout",
     "output_type": "stream",
     "text": [
      "Names: ['Apple', ' Banana', ' Orange']\n"
     ]
    }
   ],
   "source": [
    " names = input(\"Enter names separated by commas: \").split(',')\n",
    " print(\"Names:\", names)"
   ]
  },
  {
   "cell_type": "markdown",
   "id": "cafc3aa7-813f-47d3-8dd4-911e0861fbaf",
   "metadata": {},
   "source": [
    "# **Question:** \n",
    "How would you extract numbers from a string entered by the user? \n",
    "\n",
    "**Answer:**   "
   ]
  },
  {
   "cell_type": "code",
   "execution_count": 10,
   "id": "109fef3a-b4df-431b-ae69-086bf30fc3cd",
   "metadata": {},
   "outputs": [
    {
     "name": "stdin",
     "output_type": "stream",
     "text": [
      "Enter a string:  yes, he is 20 years old\n"
     ]
    },
    {
     "name": "stdout",
     "output_type": "stream",
     "text": [
      "Extracted numbers: ['20']\n"
     ]
    }
   ],
   "source": [
    "\n",
    "   import re \n",
    "   text = input(\"Enter a string: \") \n",
    "   numbers = re.findall(r'\\d+', text) \n",
    "   print(\"Extracted numbers:\", numbers) "
   ]
  },
  {
   "cell_type": "code",
   "execution_count": 12,
   "id": "db47ef93-61e4-4ca4-9f68-f3aeb765b7fe",
   "metadata": {},
   "outputs": [
    {
     "name": "stdin",
     "output_type": "stream",
     "text": [
      "Enter a string:  Yes, they bored in 2020 and 2025\n"
     ]
    },
    {
     "name": "stdout",
     "output_type": "stream",
     "text": [
      "Extracted numbers: ['2020', '2025']\n"
     ]
    }
   ],
   "source": [
    "   import re \n",
    "   text = input(\"Enter a string: \") \n",
    "   numbers = re.findall(r'\\d+', text) \n",
    "   print(\"Extracted numbers:\", numbers) "
   ]
  },
  {
   "cell_type": "markdown",
   "id": "f58a560d-e08c-4c8e-8d88-dfa9c89ed450",
   "metadata": {},
   "source": [
    "# **Question:** \n",
    "How do you find the maximum number from a list of integers entered by the user? \n",
    "   \n",
    "**Answer:**  "
   ]
  },
  {
   "cell_type": "code",
   "execution_count": 13,
   "id": "7a77355b-86ee-4805-be9e-c589a4c6668c",
   "metadata": {},
   "outputs": [
    {
     "name": "stdin",
     "output_type": "stream",
     "text": [
      "Enter numbers separated by spaces:  1 2 3 8 5 99 52 55 23 58 55 55 58975 55555 5555555\n"
     ]
    },
    {
     "name": "stdout",
     "output_type": "stream",
     "text": [
      "Maximum number: 5555555\n"
     ]
    }
   ],
   "source": [
    "\n",
    "   numbers = list(map(int, input(\"Enter numbers separated by spaces: \").split())) \n",
    "   print(\"Maximum number:\", max(numbers)) "
   ]
  },
  {
   "cell_type": "markdown",
   "id": "ec322a11-19a1-4ef9-85bf-55a2f2cb2d22",
   "metadata": {},
   "source": [
    "# **Question:** \n",
    "How would you prompt the user for input until they enter a valid number? \n",
    "   \n",
    "**Answer:**   "
   ]
  },
  {
   "cell_type": "code",
   "execution_count": 14,
   "id": "682ec5cd-b656-4ff4-9ee3-20ff23cc4011",
   "metadata": {},
   "outputs": [
    {
     "name": "stdin",
     "output_type": "stream",
     "text": [
      "Enter a valid number:  585\n"
     ]
    }
   ],
   "source": [
    "\n",
    "   while True: \n",
    "       try: \n",
    "           num = int(input(\"Enter a valid number: \")) \n",
    "           break \n",
    "       except ValueError: \n",
    "           print(\"Invalid input, please enter a number.\") "
   ]
  },
  {
   "cell_type": "code",
   "execution_count": 15,
   "id": "13a8e5e8-ef08-4428-8fe6-1e0b56c29ed5",
   "metadata": {},
   "outputs": [
    {
     "name": "stdin",
     "output_type": "stream",
     "text": [
      "Enter a valid number:  888.5\n"
     ]
    },
    {
     "name": "stdout",
     "output_type": "stream",
     "text": [
      "Invalid input, please enter a number.\n"
     ]
    },
    {
     "name": "stdin",
     "output_type": "stream",
     "text": [
      "Enter a valid number:  kddd\n"
     ]
    },
    {
     "name": "stdout",
     "output_type": "stream",
     "text": [
      "Invalid input, please enter a number.\n"
     ]
    },
    {
     "name": "stdin",
     "output_type": "stream",
     "text": [
      "Enter a valid number:  885\n"
     ]
    }
   ],
   "source": [
    "\n",
    "   while True: \n",
    "       try: \n",
    "           num = int(input(\"Enter a valid number: \")) \n",
    "           break \n",
    "       except ValueError: \n",
    "           print(\"Invalid input, please enter a number.\") "
   ]
  }
 ],
 "metadata": {
  "kernelspec": {
   "display_name": "Python 3 (ipykernel)",
   "language": "python",
   "name": "python3"
  },
  "language_info": {
   "codemirror_mode": {
    "name": "ipython",
    "version": 3
   },
   "file_extension": ".py",
   "mimetype": "text/x-python",
   "name": "python",
   "nbconvert_exporter": "python",
   "pygments_lexer": "ipython3",
   "version": "3.12.7"
  }
 },
 "nbformat": 4,
 "nbformat_minor": 5
}

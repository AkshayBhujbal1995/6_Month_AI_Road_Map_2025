{
 "cells": [
  {
   "cell_type": "markdown",
   "id": "de01561a-e766-476e-b5a2-96dee1659aed",
   "metadata": {},
   "source": [
    "# **Question:** \n",
    "How do you prevent a user from entering an empty string? \n",
    "\n",
    "**Answer:**   "
   ]
  },
  {
   "cell_type": "code",
   "execution_count": 2,
   "id": "2d580ebc-a746-479d-a96c-df471317c033",
   "metadata": {},
   "outputs": [
    {
     "name": "stdin",
     "output_type": "stream",
     "text": [
      "Enter something:  \n"
     ]
    },
    {
     "name": "stdout",
     "output_type": "stream",
     "text": [
      "Input cannot be empty.\n"
     ]
    }
   ],
   "source": [
    "user_input = input(\"Enter something: \").strip() \n",
    "if not user_input: \n",
    "    print(\"Input cannot be empty.\") \n",
    "else: \n",
    "    print(f\"You entered: {user_input}\")"
   ]
  },
  {
   "cell_type": "code",
   "execution_count": 3,
   "id": "34e5ccee-6ee0-470e-9a4a-72950c802eba",
   "metadata": {},
   "outputs": [
    {
     "name": "stdin",
     "output_type": "stream",
     "text": [
      "Enter something:  hello\n"
     ]
    },
    {
     "name": "stdout",
     "output_type": "stream",
     "text": [
      "You entered: hello\n"
     ]
    }
   ],
   "source": [
    "user_input = input(\"Enter something: \").strip() \n",
    "if not user_input: \n",
    "    print(\"Input cannot be empty.\") \n",
    "else: \n",
    "    print(f\"You entered: {user_input}\")"
   ]
  },
  {
   "cell_type": "markdown",
   "id": "86230a90-52d5-4a5f-b723-06b39580c220",
   "metadata": {},
   "source": [
    "# **Question:** \n",
    "Write a program to check if an entered number is a perfect square. \n",
    "\n",
    "**Answer:**   "
   ]
  },
  {
   "cell_type": "code",
   "execution_count": 4,
   "id": "703ce59c-e48d-41e0-8eb4-9622c464096e",
   "metadata": {},
   "outputs": [
    {
     "name": "stdin",
     "output_type": "stream",
     "text": [
      "Enter a number:  56\n"
     ]
    },
    {
     "name": "stdout",
     "output_type": "stream",
     "text": [
      "Not a perfect square\n"
     ]
    }
   ],
   "source": [
    " \n",
    "   import math \n",
    "   num = int(input(\"Enter a number: \")) \n",
    "   if math.isqrt(num) ** 2 == num: \n",
    "       print(\"Perfect square\") \n",
    "   else: \n",
    "       print(\"Not a perfect square\") "
   ]
  },
  {
   "cell_type": "code",
   "execution_count": 5,
   "id": "ce2324eb-607b-45ae-ad3f-7727a618fabe",
   "metadata": {},
   "outputs": [
    {
     "name": "stdin",
     "output_type": "stream",
     "text": [
      "Enter a number:  36\n"
     ]
    },
    {
     "name": "stdout",
     "output_type": "stream",
     "text": [
      "Perfect square\n"
     ]
    }
   ],
   "source": [
    " \n",
    "   import math \n",
    "   num = int(input(\"Enter a number: \")) \n",
    "   if math.isqrt(num) ** 2 == num: \n",
    "       print(\"Perfect square\") \n",
    "   else: \n",
    "       print(\"Not a perfect square\") "
   ]
  },
  {
   "cell_type": "markdown",
   "id": "ff8a2f09-1d81-405f-a86a-e522069453fe",
   "metadata": {},
   "source": [
    "# **Question:** \n",
    "Write a program that asks the user for a year and determines if it's a leap year. \n",
    "  \n",
    "**Answer:**   "
   ]
  },
  {
   "cell_type": "code",
   "execution_count": 7,
   "id": "26a95235-8657-4772-b8f4-ab700f0f6f24",
   "metadata": {},
   "outputs": [
    {
     "name": "stdin",
     "output_type": "stream",
     "text": [
      "Enter a year:  2025\n"
     ]
    },
    {
     "name": "stdout",
     "output_type": "stream",
     "text": [
      "Not a leap year\n"
     ]
    }
   ],
   "source": [
    "year = int(input(\"Enter a year: \")) \n",
    "if (year % 4 == 0 and year % 100 != 0) or (year % 400 == 0): \n",
    "    print(\"Leap year\") \n",
    "else:\n",
    "    print(\"Not a leap year\") "
   ]
  },
  {
   "cell_type": "code",
   "execution_count": 8,
   "id": "3ea95a15-67e2-4069-8705-d2aa06f2d384",
   "metadata": {},
   "outputs": [
    {
     "name": "stdin",
     "output_type": "stream",
     "text": [
      "Enter a year:  2028\n"
     ]
    },
    {
     "name": "stdout",
     "output_type": "stream",
     "text": [
      "Leap year\n"
     ]
    }
   ],
   "source": [
    "year = int(input(\"Enter a year: \")) \n",
    "if (year % 4 == 0 and year % 100 != 0) or (year % 400 == 0): \n",
    "    print(\"Leap year\") \n",
    "else:\n",
    "    print(\"Not a leap year\") "
   ]
  },
  {
   "cell_type": "markdown",
   "id": "a66d7f71-2ee4-4ae6-aa7e-02d5d7396285",
   "metadata": {},
   "source": [
    "# **Question:** \n",
    "How can you remove leading and trailing spaces from a string input? \n",
    "   \n",
    "**Answer:**   "
   ]
  },
  {
   "cell_type": "code",
   "execution_count": 13,
   "id": "09b67071-7f5d-483b-a6d7-cb50c6deb7f0",
   "metadata": {},
   "outputs": [
    {
     "name": "stdin",
     "output_type": "stream",
     "text": [
      "Enter something:            Hello    World!\n"
     ]
    }
   ],
   "source": [
    "user_input = input(\"Enter something: \").strip() "
   ]
  },
  {
   "cell_type": "code",
   "execution_count": 14,
   "id": "fc4c1ec3-8bfc-4c60-baf7-140911e55a2c",
   "metadata": {},
   "outputs": [
    {
     "data": {
      "text/plain": [
       "'Hello    World!'"
      ]
     },
     "execution_count": 14,
     "metadata": {},
     "output_type": "execute_result"
    }
   ],
   "source": [
    "user_input"
   ]
  },
  {
   "cell_type": "markdown",
   "id": "91525547-e60c-4b09-a9ff-664847ed2200",
   "metadata": {},
   "source": [
    "# **Question:** \n",
    "How do you handle incorrect inputs when you expect an integer using `input()`? \n",
    "   \n",
    "**Answer:**   "
   ]
  },
  {
   "cell_type": "code",
   "execution_count": 15,
   "id": "b7dad0a0-5012-48e7-880e-be1f9a737ada",
   "metadata": {},
   "outputs": [
    {
     "name": "stdin",
     "output_type": "stream",
     "text": [
      "Enter a number:  5.5\n"
     ]
    },
    {
     "name": "stdout",
     "output_type": "stream",
     "text": [
      "Invalid input! Please enter a valid integer.\n"
     ]
    }
   ],
   "source": [
    "\n",
    "   try: \n",
    "       num = int(input(\"Enter a number: \")) \n",
    "   except ValueError: \n",
    "       print(\"Invalid input! Please enter a valid integer.\") "
   ]
  },
  {
   "cell_type": "code",
   "execution_count": 16,
   "id": "0fd5ce80-614f-4b3e-8980-67b2c1ca520e",
   "metadata": {},
   "outputs": [
    {
     "name": "stdin",
     "output_type": "stream",
     "text": [
      "Enter a number:  5\n"
     ]
    }
   ],
   "source": [
    "\n",
    "   try: \n",
    "       num = int(input(\"Enter a number: \")) \n",
    "   except ValueError: \n",
    "       print(\"Invalid input! Please enter a valid integer.\") "
   ]
  },
  {
   "cell_type": "markdown",
   "id": "63f4348d-3e72-4d93-b888-a136de52ae78",
   "metadata": {},
   "source": [
    "# **Question:** \n",
    "Write a program that accepts a string and counts the occurrence of a particular character. \n",
    "   \n",
    "**Answer:**   "
   ]
  },
  {
   "cell_type": "code",
   "execution_count": 17,
   "id": "e644a653-a148-4fe9-9b66-126b083fc657",
   "metadata": {},
   "outputs": [
    {
     "name": "stdin",
     "output_type": "stream",
     "text": [
      "Enter a string:  Hello World!\n",
      "Enter a character to count:  l\n"
     ]
    },
    {
     "name": "stdout",
     "output_type": "stream",
     "text": [
      "Occurrence of l: 3\n"
     ]
    }
   ],
   "source": [
    "text = input(\"Enter a string: \") \n",
    "char = input(\"Enter a character to count: \") \n",
    "print(f\"Occurrence of {char}: {text.count(char)}\")"
   ]
  },
  {
   "cell_type": "markdown",
   "id": "12439936-50c3-4493-89ea-090ada37e098",
   "metadata": {},
   "source": [
    "# **Question:** \n",
    "How would you convert user input to lowercase using `input()`? \n",
    "   \n",
    "**Answer:**   "
   ]
  },
  {
   "cell_type": "code",
   "execution_count": 19,
   "id": "67e9f3cf-4a4f-4c2d-b814-18873a733cb5",
   "metadata": {},
   "outputs": [
    {
     "name": "stdin",
     "output_type": "stream",
     "text": [
      "Enter a string:  My Name is LOL\n"
     ]
    },
    {
     "data": {
      "text/plain": [
       "'my name is lol'"
      ]
     },
     "execution_count": 19,
     "metadata": {},
     "output_type": "execute_result"
    }
   ],
   "source": [
    "user_input = input(\"Enter a string: \").lower() \n",
    "user_input"
   ]
  },
  {
   "cell_type": "markdown",
   "id": "93f29642-3ee4-4061-8c7a-4eb27805a5da",
   "metadata": {},
   "source": [
    "# **Question:** \n",
    "Write a program that accepts a number and prints whether it is a multiple of 10. \n",
    "   \n",
    "**Answer:**   "
   ]
  },
  {
   "cell_type": "code",
   "execution_count": 20,
   "id": "352c8386-8427-46f8-a502-f1dafe529377",
   "metadata": {},
   "outputs": [
    {
     "name": "stdin",
     "output_type": "stream",
     "text": [
      "Enter a number:  89\n"
     ]
    },
    {
     "name": "stdout",
     "output_type": "stream",
     "text": [
      "Not a multiple of 10\n"
     ]
    }
   ],
   "source": [
    "\n",
    "   num = int(input(\"Enter a number: \")) \n",
    "   if num % 10 == 0: \n",
    "       print(\"Multiple of 10\") \n",
    "   else: \n",
    "       print(\"Not a multiple of 10\") \n"
   ]
  },
  {
   "cell_type": "code",
   "execution_count": 21,
   "id": "beed9bd6-9b08-400a-83b9-7c95a7c00689",
   "metadata": {},
   "outputs": [
    {
     "name": "stdin",
     "output_type": "stream",
     "text": [
      "Enter a number:  100\n"
     ]
    },
    {
     "name": "stdout",
     "output_type": "stream",
     "text": [
      "Multiple of 10\n"
     ]
    }
   ],
   "source": [
    "num = int(input(\"Enter a number: \")) \n",
    "if num % 10 == 0: \n",
    "    print(\"Multiple of 10\") \n",
    "else: \n",
    "    print(\"Not a multiple of 10\") \n"
   ]
  },
  {
   "cell_type": "markdown",
   "id": "5fa649ac-26a5-44c7-9e61-9a55b0bfd36d",
   "metadata": {},
   "source": [
    "# **Question:** \n",
    "How would you check if a string contains only alphabets using `input()`? \n",
    "   \n",
    "**Answer:**   "
   ]
  },
  {
   "cell_type": "code",
   "execution_count": 22,
   "id": "21d0ce17-76d5-4e59-a6f8-a6a0e41e8b29",
   "metadata": {},
   "outputs": [
    {
     "name": "stdin",
     "output_type": "stream",
     "text": [
      "Enter a string:  hELLO\n"
     ]
    },
    {
     "name": "stdout",
     "output_type": "stream",
     "text": [
      "Only alphabets\n"
     ]
    }
   ],
   "source": [
    "\n",
    "   user_input = input(\"Enter a string: \") \n",
    "   if user_input.isalpha(): \n",
    "       print(\"Only alphabets\") \n",
    "   else: \n",
    "       print(\"Contains non-alphabet characters\") "
   ]
  },
  {
   "cell_type": "code",
   "execution_count": 23,
   "id": "604b48fc-ef8c-473c-bf3d-d86b75f4e064",
   "metadata": {},
   "outputs": [
    {
     "name": "stdin",
     "output_type": "stream",
     "text": [
      "Enter a string:  15555\n"
     ]
    },
    {
     "name": "stdout",
     "output_type": "stream",
     "text": [
      "Contains non-alphabet characters\n"
     ]
    }
   ],
   "source": [
    "\n",
    "   user_input = input(\"Enter a string: \") \n",
    "   if user_input.isalpha(): \n",
    "       print(\"Only alphabets\") \n",
    "   else: \n",
    "       print(\"Contains non-alphabet characters\") "
   ]
  },
  {
   "cell_type": "markdown",
   "id": "635260ea-6528-4d44-a7a0-5485704d316e",
   "metadata": {},
   "source": [
    "# **Question:** \n",
    "Write a program to count the number of words in a sentence entered by the user. \n",
    "   \n",
    "**Answer:**   "
   ]
  },
  {
   "cell_type": "code",
   "execution_count": 24,
   "id": "023d2d9e-0330-45d7-95a4-4201c551ad14",
   "metadata": {},
   "outputs": [
    {
     "name": "stdin",
     "output_type": "stream",
     "text": [
      "Enter a sentence:  WOW, I am loving it!\n"
     ]
    },
    {
     "name": "stdout",
     "output_type": "stream",
     "text": [
      "Number of words: 5\n"
     ]
    }
   ],
   "source": [
    "\n",
    "   text = input(\"Enter a sentence: \") \n",
    "   print(\"Number of words:\", len(text.split())) "
   ]
  }
 ],
 "metadata": {
  "kernelspec": {
   "display_name": "Python 3 (ipykernel)",
   "language": "python",
   "name": "python3"
  },
  "language_info": {
   "codemirror_mode": {
    "name": "ipython",
    "version": 3
   },
   "file_extension": ".py",
   "mimetype": "text/x-python",
   "name": "python",
   "nbconvert_exporter": "python",
   "pygments_lexer": "ipython3",
   "version": "3.12.7"
  }
 },
 "nbformat": 4,
 "nbformat_minor": 5
}
